{
 "cells": [
  {
   "cell_type": "markdown",
   "id": "6da6a202",
   "metadata": {},
   "source": [
    "# What is the Dataset?"
   ]
  },
  {
   "cell_type": "markdown",
   "id": "d87fa625",
   "metadata": {},
   "source": [
    "About this Dataset: Disney+ is another one of the most popular media and video streaming platforms. They have close to 1300 movies or tv shows available on their platform, as of mid-2021, they have over 116M Subscribers globally. This tabular dataset consists of listings of all the movies and tv shows available on Disney+ , along with details such as - cast, directors, ratings, release year, duration, etc."
   ]
  },
  {
   "cell_type": "markdown",
   "id": "225a39cc",
   "metadata": {},
   "source": [
    "The dataset is available on Kaggle for free"
   ]
  },
  {
   "cell_type": "markdown",
   "id": "05cbfc0e",
   "metadata": {},
   "source": [
    "# Import Libraries"
   ]
  },
  {
   "cell_type": "code",
   "execution_count": 1,
   "id": "2a73612c",
   "metadata": {},
   "outputs": [],
   "source": [
    "#importing Required library \n",
    "import pandas as pd\n",
    "import numpy as np\n",
    "import seaborn as sns\n",
    "import matplotlib.pyplot as plt\n",
    "\n",
    "%matplotlib inline"
   ]
  },
  {
   "cell_type": "code",
   "execution_count": 2,
   "id": "87323b73",
   "metadata": {},
   "outputs": [
    {
     "data": {
      "text/html": [
       "        <script type=\"text/javascript\">\n",
       "        window.PlotlyConfig = {MathJaxConfig: 'local'};\n",
       "        if (window.MathJax) {MathJax.Hub.Config({SVG: {font: \"STIX-Web\"}});}\n",
       "        if (typeof require !== 'undefined') {\n",
       "        require.undef(\"plotly\");\n",
       "        requirejs.config({\n",
       "            paths: {\n",
       "                'plotly': ['https://cdn.plot.ly/plotly-2.8.3.min']\n",
       "            }\n",
       "        });\n",
       "        require(['plotly'], function(Plotly) {\n",
       "            window._Plotly = Plotly;\n",
       "        });\n",
       "        }\n",
       "        </script>\n",
       "        "
      ]
     },
     "metadata": {},
     "output_type": "display_data"
    },
    {
     "data": {
      "text/html": [
       "        <script type=\"text/javascript\">\n",
       "        window.PlotlyConfig = {MathJaxConfig: 'local'};\n",
       "        if (window.MathJax) {MathJax.Hub.Config({SVG: {font: \"STIX-Web\"}});}\n",
       "        if (typeof require !== 'undefined') {\n",
       "        require.undef(\"plotly\");\n",
       "        requirejs.config({\n",
       "            paths: {\n",
       "                'plotly': ['https://cdn.plot.ly/plotly-2.8.3.min']\n",
       "            }\n",
       "        });\n",
       "        require(['plotly'], function(Plotly) {\n",
       "            window._Plotly = Plotly;\n",
       "        });\n",
       "        }\n",
       "        </script>\n",
       "        "
      ]
     },
     "metadata": {},
     "output_type": "display_data"
    }
   ],
   "source": [
    "#importing plotly Library\n",
    "from plotly.offline import iplot\n",
    "import plotly as py\n",
    "import plotly.express as px\n",
    "import plotly.tools as tls\n",
    "import cufflinks as cf\n",
    "py.offline.init_notebook_mode(connected=True) #Turning on notebook mode \n",
    "cf.go_offline()"
   ]
  },
  {
   "cell_type": "markdown",
   "id": "e407ea3c",
   "metadata": {},
   "source": [
    "# Load dataset"
   ]
  },
  {
   "cell_type": "code",
   "execution_count": 3,
   "id": "74e57b1d",
   "metadata": {},
   "outputs": [
    {
     "data": {
      "text/html": [
       "<div>\n",
       "<style scoped>\n",
       "    .dataframe tbody tr th:only-of-type {\n",
       "        vertical-align: middle;\n",
       "    }\n",
       "\n",
       "    .dataframe tbody tr th {\n",
       "        vertical-align: top;\n",
       "    }\n",
       "\n",
       "    .dataframe thead th {\n",
       "        text-align: right;\n",
       "    }\n",
       "</style>\n",
       "<table border=\"1\" class=\"dataframe\">\n",
       "  <thead>\n",
       "    <tr style=\"text-align: right;\">\n",
       "      <th></th>\n",
       "      <th>show_id</th>\n",
       "      <th>type</th>\n",
       "      <th>title</th>\n",
       "      <th>director</th>\n",
       "      <th>cast</th>\n",
       "      <th>country</th>\n",
       "      <th>date_added</th>\n",
       "      <th>release_year</th>\n",
       "      <th>rating</th>\n",
       "      <th>duration</th>\n",
       "      <th>listed_in</th>\n",
       "      <th>description</th>\n",
       "    </tr>\n",
       "  </thead>\n",
       "  <tbody>\n",
       "    <tr>\n",
       "      <th>0</th>\n",
       "      <td>s1</td>\n",
       "      <td>Movie</td>\n",
       "      <td>Duck the Halls: A Mickey Mouse Christmas Special</td>\n",
       "      <td>Alonso Ramirez Ramos, Dave Wasson</td>\n",
       "      <td>Chris Diamantopoulos, Tony Anselmo, Tress MacN...</td>\n",
       "      <td>NaN</td>\n",
       "      <td>November 26, 2021</td>\n",
       "      <td>2016</td>\n",
       "      <td>TV-G</td>\n",
       "      <td>23 min</td>\n",
       "      <td>Animation, Family</td>\n",
       "      <td>Join Mickey and the gang as they duck the halls!</td>\n",
       "    </tr>\n",
       "    <tr>\n",
       "      <th>1</th>\n",
       "      <td>s2</td>\n",
       "      <td>Movie</td>\n",
       "      <td>Ernest Saves Christmas</td>\n",
       "      <td>John Cherry</td>\n",
       "      <td>Jim Varney, Noelle Parker, Douglas Seale</td>\n",
       "      <td>NaN</td>\n",
       "      <td>November 26, 2021</td>\n",
       "      <td>1988</td>\n",
       "      <td>PG</td>\n",
       "      <td>91 min</td>\n",
       "      <td>Comedy</td>\n",
       "      <td>Santa Claus passes his magic bag to a new St. ...</td>\n",
       "    </tr>\n",
       "    <tr>\n",
       "      <th>2</th>\n",
       "      <td>s3</td>\n",
       "      <td>Movie</td>\n",
       "      <td>Ice Age: A Mammoth Christmas</td>\n",
       "      <td>Karen Disher</td>\n",
       "      <td>Raymond Albert Romano, John Leguizamo, Denis L...</td>\n",
       "      <td>United States</td>\n",
       "      <td>November 26, 2021</td>\n",
       "      <td>2011</td>\n",
       "      <td>TV-G</td>\n",
       "      <td>23 min</td>\n",
       "      <td>Animation, Comedy, Family</td>\n",
       "      <td>Sid the Sloth is on Santa's naughty list.</td>\n",
       "    </tr>\n",
       "    <tr>\n",
       "      <th>3</th>\n",
       "      <td>s4</td>\n",
       "      <td>Movie</td>\n",
       "      <td>The Queen Family Singalong</td>\n",
       "      <td>Hamish Hamilton</td>\n",
       "      <td>Darren Criss, Adam Lambert, Derek Hough, Alexa...</td>\n",
       "      <td>NaN</td>\n",
       "      <td>November 26, 2021</td>\n",
       "      <td>2021</td>\n",
       "      <td>TV-PG</td>\n",
       "      <td>41 min</td>\n",
       "      <td>Musical</td>\n",
       "      <td>This is real life, not just fantasy!</td>\n",
       "    </tr>\n",
       "    <tr>\n",
       "      <th>4</th>\n",
       "      <td>s5</td>\n",
       "      <td>TV Show</td>\n",
       "      <td>The Beatles: Get Back</td>\n",
       "      <td>NaN</td>\n",
       "      <td>John Lennon, Paul McCartney, George Harrison, ...</td>\n",
       "      <td>NaN</td>\n",
       "      <td>November 25, 2021</td>\n",
       "      <td>2021</td>\n",
       "      <td>NaN</td>\n",
       "      <td>1 Season</td>\n",
       "      <td>Docuseries, Historical, Music</td>\n",
       "      <td>A three-part documentary from Peter Jackson ca...</td>\n",
       "    </tr>\n",
       "  </tbody>\n",
       "</table>\n",
       "</div>"
      ],
      "text/plain": [
       "  show_id     type                                             title  \\\n",
       "0      s1    Movie  Duck the Halls: A Mickey Mouse Christmas Special   \n",
       "1      s2    Movie                            Ernest Saves Christmas   \n",
       "2      s3    Movie                      Ice Age: A Mammoth Christmas   \n",
       "3      s4    Movie                        The Queen Family Singalong   \n",
       "4      s5  TV Show                             The Beatles: Get Back   \n",
       "\n",
       "                            director  \\\n",
       "0  Alonso Ramirez Ramos, Dave Wasson   \n",
       "1                        John Cherry   \n",
       "2                       Karen Disher   \n",
       "3                    Hamish Hamilton   \n",
       "4                                NaN   \n",
       "\n",
       "                                                cast        country  \\\n",
       "0  Chris Diamantopoulos, Tony Anselmo, Tress MacN...            NaN   \n",
       "1           Jim Varney, Noelle Parker, Douglas Seale            NaN   \n",
       "2  Raymond Albert Romano, John Leguizamo, Denis L...  United States   \n",
       "3  Darren Criss, Adam Lambert, Derek Hough, Alexa...            NaN   \n",
       "4  John Lennon, Paul McCartney, George Harrison, ...            NaN   \n",
       "\n",
       "          date_added  release_year rating  duration  \\\n",
       "0  November 26, 2021          2016   TV-G    23 min   \n",
       "1  November 26, 2021          1988     PG    91 min   \n",
       "2  November 26, 2021          2011   TV-G    23 min   \n",
       "3  November 26, 2021          2021  TV-PG    41 min   \n",
       "4  November 25, 2021          2021    NaN  1 Season   \n",
       "\n",
       "                       listed_in  \\\n",
       "0              Animation, Family   \n",
       "1                         Comedy   \n",
       "2      Animation, Comedy, Family   \n",
       "3                        Musical   \n",
       "4  Docuseries, Historical, Music   \n",
       "\n",
       "                                         description  \n",
       "0   Join Mickey and the gang as they duck the halls!  \n",
       "1  Santa Claus passes his magic bag to a new St. ...  \n",
       "2          Sid the Sloth is on Santa's naughty list.  \n",
       "3               This is real life, not just fantasy!  \n",
       "4  A three-part documentary from Peter Jackson ca...  "
      ]
     },
     "execution_count": 3,
     "metadata": {},
     "output_type": "execute_result"
    }
   ],
   "source": [
    "df = pd.read_csv(r\"C:\\Users\\pc\\Downloads\\disney_plus_titles.csv\")\n",
    "df.head()"
   ]
  },
  {
   "cell_type": "code",
   "execution_count": 4,
   "id": "6c1cdf2a",
   "metadata": {},
   "outputs": [
    {
     "data": {
      "text/html": [
       "<div>\n",
       "<style scoped>\n",
       "    .dataframe tbody tr th:only-of-type {\n",
       "        vertical-align: middle;\n",
       "    }\n",
       "\n",
       "    .dataframe tbody tr th {\n",
       "        vertical-align: top;\n",
       "    }\n",
       "\n",
       "    .dataframe thead th {\n",
       "        text-align: right;\n",
       "    }\n",
       "</style>\n",
       "<table border=\"1\" class=\"dataframe\">\n",
       "  <thead>\n",
       "    <tr style=\"text-align: right;\">\n",
       "      <th></th>\n",
       "      <th>show_id</th>\n",
       "      <th>type</th>\n",
       "      <th>title</th>\n",
       "      <th>director</th>\n",
       "      <th>cast</th>\n",
       "      <th>country</th>\n",
       "      <th>date_added</th>\n",
       "      <th>release_year</th>\n",
       "      <th>rating</th>\n",
       "      <th>duration</th>\n",
       "      <th>listed_in</th>\n",
       "      <th>description</th>\n",
       "    </tr>\n",
       "  </thead>\n",
       "  <tbody>\n",
       "    <tr>\n",
       "      <th>1445</th>\n",
       "      <td>s1446</td>\n",
       "      <td>Movie</td>\n",
       "      <td>X-Men Origins: Wolverine</td>\n",
       "      <td>Gavin Hood</td>\n",
       "      <td>Hugh Jackman, Liev Schreiber, Danny Huston, wi...</td>\n",
       "      <td>United States, United Kingdom</td>\n",
       "      <td>June 4, 2021</td>\n",
       "      <td>2009</td>\n",
       "      <td>PG-13</td>\n",
       "      <td>108 min</td>\n",
       "      <td>Action-Adventure, Family, Science Fiction</td>\n",
       "      <td>Wolverine unites with legendary X-Men to fight...</td>\n",
       "    </tr>\n",
       "    <tr>\n",
       "      <th>1446</th>\n",
       "      <td>s1447</td>\n",
       "      <td>Movie</td>\n",
       "      <td>Night at the Museum: Battle of the Smithsonian</td>\n",
       "      <td>Shawn Levy</td>\n",
       "      <td>Ben Stiller, Amy Adams, Owen Wilson, Hank Azar...</td>\n",
       "      <td>United States, Canada</td>\n",
       "      <td>April 2, 2021</td>\n",
       "      <td>2009</td>\n",
       "      <td>PG</td>\n",
       "      <td>106 min</td>\n",
       "      <td>Action-Adventure, Comedy, Family</td>\n",
       "      <td>Larry Daley returns to rescue some old friends...</td>\n",
       "    </tr>\n",
       "    <tr>\n",
       "      <th>1447</th>\n",
       "      <td>s1448</td>\n",
       "      <td>Movie</td>\n",
       "      <td>Eddie the Eagle</td>\n",
       "      <td>Dexter Fletcher</td>\n",
       "      <td>Tom Costello, Jo Hartley, Keith Allen, Dickon ...</td>\n",
       "      <td>United Kingdom, Germany, United States</td>\n",
       "      <td>December 18, 2020</td>\n",
       "      <td>2016</td>\n",
       "      <td>PG-13</td>\n",
       "      <td>107 min</td>\n",
       "      <td>Biographical, Comedy, Drama</td>\n",
       "      <td>True story of Eddie Edwards, a British ski-jum...</td>\n",
       "    </tr>\n",
       "    <tr>\n",
       "      <th>1448</th>\n",
       "      <td>s1449</td>\n",
       "      <td>Movie</td>\n",
       "      <td>Bend It Like Beckham</td>\n",
       "      <td>Gurinder Chadha</td>\n",
       "      <td>Parminder Nagra, Keira Knightley, Jonathan Rhy...</td>\n",
       "      <td>United Kingdom, Germany, United States</td>\n",
       "      <td>September 18, 2020</td>\n",
       "      <td>2003</td>\n",
       "      <td>PG-13</td>\n",
       "      <td>112 min</td>\n",
       "      <td>Buddy, Comedy, Coming of Age</td>\n",
       "      <td>Despite the wishes of their traditional famili...</td>\n",
       "    </tr>\n",
       "    <tr>\n",
       "      <th>1449</th>\n",
       "      <td>s1450</td>\n",
       "      <td>Movie</td>\n",
       "      <td>Captain Sparky vs. The Flying Saucers</td>\n",
       "      <td>Mark Waring</td>\n",
       "      <td>Charlie Tahan</td>\n",
       "      <td>United States</td>\n",
       "      <td>April 1, 2020</td>\n",
       "      <td>2012</td>\n",
       "      <td>TV-G</td>\n",
       "      <td>2 min</td>\n",
       "      <td>Action-Adventure, Animals &amp; Nature, Animation</td>\n",
       "      <td>View one of Sparky's favorite home movies.</td>\n",
       "    </tr>\n",
       "  </tbody>\n",
       "</table>\n",
       "</div>"
      ],
      "text/plain": [
       "     show_id   type                                           title  \\\n",
       "1445   s1446  Movie                        X-Men Origins: Wolverine   \n",
       "1446   s1447  Movie  Night at the Museum: Battle of the Smithsonian   \n",
       "1447   s1448  Movie                                 Eddie the Eagle   \n",
       "1448   s1449  Movie                            Bend It Like Beckham   \n",
       "1449   s1450  Movie           Captain Sparky vs. The Flying Saucers   \n",
       "\n",
       "             director                                               cast  \\\n",
       "1445       Gavin Hood  Hugh Jackman, Liev Schreiber, Danny Huston, wi...   \n",
       "1446       Shawn Levy  Ben Stiller, Amy Adams, Owen Wilson, Hank Azar...   \n",
       "1447  Dexter Fletcher  Tom Costello, Jo Hartley, Keith Allen, Dickon ...   \n",
       "1448  Gurinder Chadha  Parminder Nagra, Keira Knightley, Jonathan Rhy...   \n",
       "1449      Mark Waring                                      Charlie Tahan   \n",
       "\n",
       "                                     country          date_added  \\\n",
       "1445           United States, United Kingdom        June 4, 2021   \n",
       "1446                   United States, Canada       April 2, 2021   \n",
       "1447  United Kingdom, Germany, United States   December 18, 2020   \n",
       "1448  United Kingdom, Germany, United States  September 18, 2020   \n",
       "1449                           United States       April 1, 2020   \n",
       "\n",
       "      release_year rating duration  \\\n",
       "1445          2009  PG-13  108 min   \n",
       "1446          2009     PG  106 min   \n",
       "1447          2016  PG-13  107 min   \n",
       "1448          2003  PG-13  112 min   \n",
       "1449          2012   TV-G    2 min   \n",
       "\n",
       "                                          listed_in  \\\n",
       "1445      Action-Adventure, Family, Science Fiction   \n",
       "1446               Action-Adventure, Comedy, Family   \n",
       "1447                    Biographical, Comedy, Drama   \n",
       "1448                   Buddy, Comedy, Coming of Age   \n",
       "1449  Action-Adventure, Animals & Nature, Animation   \n",
       "\n",
       "                                            description  \n",
       "1445  Wolverine unites with legendary X-Men to fight...  \n",
       "1446  Larry Daley returns to rescue some old friends...  \n",
       "1447  True story of Eddie Edwards, a British ski-jum...  \n",
       "1448  Despite the wishes of their traditional famili...  \n",
       "1449         View one of Sparky's favorite home movies.  "
      ]
     },
     "execution_count": 4,
     "metadata": {},
     "output_type": "execute_result"
    }
   ],
   "source": [
    "df.tail()"
   ]
  },
  {
   "cell_type": "code",
   "execution_count": 5,
   "id": "6a0fc0c2",
   "metadata": {},
   "outputs": [
    {
     "data": {
      "text/plain": [
       "(1450, 12)"
      ]
     },
     "execution_count": 5,
     "metadata": {},
     "output_type": "execute_result"
    }
   ],
   "source": [
    "df.shape"
   ]
  },
  {
   "cell_type": "code",
   "execution_count": 6,
   "id": "2a49f542",
   "metadata": {},
   "outputs": [
    {
     "name": "stdout",
     "output_type": "stream",
     "text": [
      "<class 'pandas.core.frame.DataFrame'>\n",
      "RangeIndex: 1450 entries, 0 to 1449\n",
      "Data columns (total 12 columns):\n",
      " #   Column        Non-Null Count  Dtype \n",
      "---  ------        --------------  ----- \n",
      " 0   show_id       1450 non-null   object\n",
      " 1   type          1450 non-null   object\n",
      " 2   title         1450 non-null   object\n",
      " 3   director      977 non-null    object\n",
      " 4   cast          1260 non-null   object\n",
      " 5   country       1231 non-null   object\n",
      " 6   date_added    1447 non-null   object\n",
      " 7   release_year  1450 non-null   int64 \n",
      " 8   rating        1447 non-null   object\n",
      " 9   duration      1450 non-null   object\n",
      " 10  listed_in     1450 non-null   object\n",
      " 11  description   1450 non-null   object\n",
      "dtypes: int64(1), object(11)\n",
      "memory usage: 136.1+ KB\n"
     ]
    }
   ],
   "source": [
    "df.info()"
   ]
  },
  {
   "cell_type": "markdown",
   "id": "2ef7d04e",
   "metadata": {},
   "source": [
    "Dataset has 1450 rows and 12 columns having null values in director,cast,country,date_added,and rating column\n",
    "\n",
    "release_year is showing int data type . remaining all are having object data type."
   ]
  },
  {
   "cell_type": "markdown",
   "id": "88c7303e",
   "metadata": {},
   "source": [
    "# Check Duplicate values"
   ]
  },
  {
   "cell_type": "code",
   "execution_count": 7,
   "id": "c3d93a62",
   "metadata": {},
   "outputs": [
    {
     "data": {
      "text/html": [
       "<div>\n",
       "<style scoped>\n",
       "    .dataframe tbody tr th:only-of-type {\n",
       "        vertical-align: middle;\n",
       "    }\n",
       "\n",
       "    .dataframe tbody tr th {\n",
       "        vertical-align: top;\n",
       "    }\n",
       "\n",
       "    .dataframe thead th {\n",
       "        text-align: right;\n",
       "    }\n",
       "</style>\n",
       "<table border=\"1\" class=\"dataframe\">\n",
       "  <thead>\n",
       "    <tr style=\"text-align: right;\">\n",
       "      <th></th>\n",
       "      <th>show_id</th>\n",
       "      <th>type</th>\n",
       "      <th>title</th>\n",
       "      <th>director</th>\n",
       "      <th>cast</th>\n",
       "      <th>country</th>\n",
       "      <th>date_added</th>\n",
       "      <th>release_year</th>\n",
       "      <th>rating</th>\n",
       "      <th>duration</th>\n",
       "      <th>listed_in</th>\n",
       "      <th>description</th>\n",
       "    </tr>\n",
       "  </thead>\n",
       "  <tbody>\n",
       "  </tbody>\n",
       "</table>\n",
       "</div>"
      ],
      "text/plain": [
       "Empty DataFrame\n",
       "Columns: [show_id, type, title, director, cast, country, date_added, release_year, rating, duration, listed_in, description]\n",
       "Index: []"
      ]
     },
     "execution_count": 7,
     "metadata": {},
     "output_type": "execute_result"
    }
   ],
   "source": [
    "df[df.duplicated()]"
   ]
  },
  {
   "cell_type": "code",
   "execution_count": 8,
   "id": "39c369d0",
   "metadata": {},
   "outputs": [
    {
     "data": {
      "text/plain": [
       "0"
      ]
     },
     "execution_count": 8,
     "metadata": {},
     "output_type": "execute_result"
    }
   ],
   "source": [
    "df.duplicated().sum()  "
   ]
  },
  {
   "cell_type": "markdown",
   "id": "0a182db6",
   "metadata": {},
   "source": [
    "No duplicate values"
   ]
  },
  {
   "cell_type": "markdown",
   "id": "8881f582",
   "metadata": {},
   "source": [
    "# Check and Handle Null Values"
   ]
  },
  {
   "cell_type": "code",
   "execution_count": 9,
   "id": "57be3ea0",
   "metadata": {},
   "outputs": [
    {
     "data": {
      "text/plain": [
       "show_id           0\n",
       "type              0\n",
       "title             0\n",
       "director        473\n",
       "cast            190\n",
       "country         219\n",
       "date_added        3\n",
       "release_year      0\n",
       "rating            3\n",
       "duration          0\n",
       "listed_in         0\n",
       "description       0\n",
       "dtype: int64"
      ]
     },
     "execution_count": 9,
     "metadata": {},
     "output_type": "execute_result"
    }
   ],
   "source": [
    "df.isnull().sum() "
   ]
  },
  {
   "cell_type": "code",
   "execution_count": 10,
   "id": "6a20f773",
   "metadata": {},
   "outputs": [
    {
     "data": {
      "text/plain": [
       "<AxesSubplot:>"
      ]
     },
     "execution_count": 10,
     "metadata": {},
     "output_type": "execute_result"
    },
    {
     "data": {
      "image/png": "[encoded data removed]",
      "text/plain": [
       "<Figure size 432x288 with 1 Axes>"
      ]
     },
     "metadata": {
      "needs_background": "light"
     },
     "output_type": "display_data"
    }
   ],
   "source": [
    "sns.heatmap(df.isnull(), cbar=False)"
   ]
  },
  {
   "cell_type": "markdown",
   "id": "12473bc4",
   "metadata": {},
   "source": [
    "Max null values are present in director column. And then cast , country. \n",
    "\n",
    "date_added and rating columns have only 3 null values ."
   ]
  },
  {
   "cell_type": "markdown",
   "id": "7874a2b5",
   "metadata": {},
   "source": [
    "# Fill null values\n",
    "1. Country"
   ]
  },
  {
   "cell_type": "code",
   "execution_count": 11,
   "id": "f361bc1d",
   "metadata": {},
   "outputs": [
    {
     "data": {
      "text/html": [
       "<div>\n",
       "<style scoped>\n",
       "    .dataframe tbody tr th:only-of-type {\n",
       "        vertical-align: middle;\n",
       "    }\n",
       "\n",
       "    .dataframe tbody tr th {\n",
       "        vertical-align: top;\n",
       "    }\n",
       "\n",
       "    .dataframe thead th {\n",
       "        text-align: right;\n",
       "    }\n",
       "</style>\n",
       "<table border=\"1\" class=\"dataframe\">\n",
       "  <thead>\n",
       "    <tr style=\"text-align: right;\">\n",
       "      <th></th>\n",
       "      <th>show_id</th>\n",
       "      <th>type</th>\n",
       "      <th>title</th>\n",
       "      <th>director</th>\n",
       "      <th>cast</th>\n",
       "      <th>country</th>\n",
       "      <th>date_added</th>\n",
       "      <th>release_year</th>\n",
       "      <th>rating</th>\n",
       "      <th>duration</th>\n",
       "      <th>listed_in</th>\n",
       "      <th>description</th>\n",
       "    </tr>\n",
       "  </thead>\n",
       "  <tbody>\n",
       "    <tr>\n",
       "      <th>0</th>\n",
       "      <td>s1</td>\n",
       "      <td>Movie</td>\n",
       "      <td>Duck the Halls: A Mickey Mouse Christmas Special</td>\n",
       "      <td>Alonso Ramirez Ramos, Dave Wasson</td>\n",
       "      <td>Chris Diamantopoulos, Tony Anselmo, Tress MacN...</td>\n",
       "      <td>United States</td>\n",
       "      <td>November 26, 2021</td>\n",
       "      <td>2016</td>\n",
       "      <td>TV-G</td>\n",
       "      <td>23 min</td>\n",
       "      <td>Animation, Family</td>\n",
       "      <td>Join Mickey and the gang as they duck the halls!</td>\n",
       "    </tr>\n",
       "    <tr>\n",
       "      <th>1</th>\n",
       "      <td>s2</td>\n",
       "      <td>Movie</td>\n",
       "      <td>Ernest Saves Christmas</td>\n",
       "      <td>John Cherry</td>\n",
       "      <td>Jim Varney, Noelle Parker, Douglas Seale</td>\n",
       "      <td>United States</td>\n",
       "      <td>November 26, 2021</td>\n",
       "      <td>1988</td>\n",
       "      <td>PG</td>\n",
       "      <td>91 min</td>\n",
       "      <td>Comedy</td>\n",
       "      <td>Santa Claus passes his magic bag to a new St. ...</td>\n",
       "    </tr>\n",
       "    <tr>\n",
       "      <th>2</th>\n",
       "      <td>s3</td>\n",
       "      <td>Movie</td>\n",
       "      <td>Ice Age: A Mammoth Christmas</td>\n",
       "      <td>Karen Disher</td>\n",
       "      <td>Raymond Albert Romano, John Leguizamo, Denis L...</td>\n",
       "      <td>United States</td>\n",
       "      <td>November 26, 2021</td>\n",
       "      <td>2011</td>\n",
       "      <td>TV-G</td>\n",
       "      <td>23 min</td>\n",
       "      <td>Animation, Comedy, Family</td>\n",
       "      <td>Sid the Sloth is on Santa's naughty list.</td>\n",
       "    </tr>\n",
       "    <tr>\n",
       "      <th>3</th>\n",
       "      <td>s4</td>\n",
       "      <td>Movie</td>\n",
       "      <td>The Queen Family Singalong</td>\n",
       "      <td>Hamish Hamilton</td>\n",
       "      <td>Darren Criss, Adam Lambert, Derek Hough, Alexa...</td>\n",
       "      <td>United States</td>\n",
       "      <td>November 26, 2021</td>\n",
       "      <td>2021</td>\n",
       "      <td>TV-PG</td>\n",
       "      <td>41 min</td>\n",
       "      <td>Musical</td>\n",
       "      <td>This is real life, not just fantasy!</td>\n",
       "    </tr>\n",
       "    <tr>\n",
       "      <th>4</th>\n",
       "      <td>s5</td>\n",
       "      <td>TV Show</td>\n",
       "      <td>The Beatles: Get Back</td>\n",
       "      <td>NaN</td>\n",
       "      <td>John Lennon, Paul McCartney, George Harrison, ...</td>\n",
       "      <td>United States</td>\n",
       "      <td>November 25, 2021</td>\n",
       "      <td>2021</td>\n",
       "      <td>NaN</td>\n",
       "      <td>1 Season</td>\n",
       "      <td>Docuseries, Historical, Music</td>\n",
       "      <td>A three-part documentary from Peter Jackson ca...</td>\n",
       "    </tr>\n",
       "    <tr>\n",
       "      <th>...</th>\n",
       "      <td>...</td>\n",
       "      <td>...</td>\n",
       "      <td>...</td>\n",
       "      <td>...</td>\n",
       "      <td>...</td>\n",
       "      <td>...</td>\n",
       "      <td>...</td>\n",
       "      <td>...</td>\n",
       "      <td>...</td>\n",
       "      <td>...</td>\n",
       "      <td>...</td>\n",
       "      <td>...</td>\n",
       "    </tr>\n",
       "    <tr>\n",
       "      <th>1445</th>\n",
       "      <td>s1446</td>\n",
       "      <td>Movie</td>\n",
       "      <td>X-Men Origins: Wolverine</td>\n",
       "      <td>Gavin Hood</td>\n",
       "      <td>Hugh Jackman, Liev Schreiber, Danny Huston, wi...</td>\n",
       "      <td>United States, United Kingdom</td>\n",
       "      <td>June 4, 2021</td>\n",
       "      <td>2009</td>\n",
       "      <td>PG-13</td>\n",
       "      <td>108 min</td>\n",
       "      <td>Action-Adventure, Family, Science Fiction</td>\n",
       "      <td>Wolverine unites with legendary X-Men to fight...</td>\n",
       "    </tr>\n",
       "    <tr>\n",
       "      <th>1446</th>\n",
       "      <td>s1447</td>\n",
       "      <td>Movie</td>\n",
       "      <td>Night at the Museum: Battle of the Smithsonian</td>\n",
       "      <td>Shawn Levy</td>\n",
       "      <td>Ben Stiller, Amy Adams, Owen Wilson, Hank Azar...</td>\n",
       "      <td>United States, Canada</td>\n",
       "      <td>April 2, 2021</td>\n",
       "      <td>2009</td>\n",
       "      <td>PG</td>\n",
       "      <td>106 min</td>\n",
       "      <td>Action-Adventure, Comedy, Family</td>\n",
       "      <td>Larry Daley returns to rescue some old friends...</td>\n",
       "    </tr>\n",
       "    <tr>\n",
       "      <th>1447</th>\n",
       "      <td>s1448</td>\n",
       "      <td>Movie</td>\n",
       "      <td>Eddie the Eagle</td>\n",
       "      <td>Dexter Fletcher</td>\n",
       "      <td>Tom Costello, Jo Hartley, Keith Allen, Dickon ...</td>\n",
       "      <td>United Kingdom, Germany, United States</td>\n",
       "      <td>December 18, 2020</td>\n",
       "      <td>2016</td>\n",
       "      <td>PG-13</td>\n",
       "      <td>107 min</td>\n",
       "      <td>Biographical, Comedy, Drama</td>\n",
       "      <td>True story of Eddie Edwards, a British ski-jum...</td>\n",
       "    </tr>\n",
       "    <tr>\n",
       "      <th>1448</th>\n",
       "      <td>s1449</td>\n",
       "      <td>Movie</td>\n",
       "      <td>Bend It Like Beckham</td>\n",
       "      <td>Gurinder Chadha</td>\n",
       "      <td>Parminder Nagra, Keira Knightley, Jonathan Rhy...</td>\n",
       "      <td>United Kingdom, Germany, United States</td>\n",
       "      <td>September 18, 2020</td>\n",
       "      <td>2003</td>\n",
       "      <td>PG-13</td>\n",
       "      <td>112 min</td>\n",
       "      <td>Buddy, Comedy, Coming of Age</td>\n",
       "      <td>Despite the wishes of their traditional famili...</td>\n",
       "    </tr>\n",
       "    <tr>\n",
       "      <th>1449</th>\n",
       "      <td>s1450</td>\n",
       "      <td>Movie</td>\n",
       "      <td>Captain Sparky vs. The Flying Saucers</td>\n",
       "      <td>Mark Waring</td>\n",
       "      <td>Charlie Tahan</td>\n",
       "      <td>United States</td>\n",
       "      <td>April 1, 2020</td>\n",
       "      <td>2012</td>\n",
       "      <td>TV-G</td>\n",
       "      <td>2 min</td>\n",
       "      <td>Action-Adventure, Animals &amp; Nature, Animation</td>\n",
       "      <td>View one of Sparky's favorite home movies.</td>\n",
       "    </tr>\n",
       "  </tbody>\n",
       "</table>\n",
       "<p>1450 rows × 12 columns</p>\n",
       "</div>"
      ],
      "text/plain": [
       "     show_id     type                                             title  \\\n",
       "0         s1    Movie  Duck the Halls: A Mickey Mouse Christmas Special   \n",
       "1         s2    Movie                            Ernest Saves Christmas   \n",
       "2         s3    Movie                      Ice Age: A Mammoth Christmas   \n",
       "3         s4    Movie                        The Queen Family Singalong   \n",
       "4         s5  TV Show                             The Beatles: Get Back   \n",
       "...      ...      ...                                               ...   \n",
       "1445   s1446    Movie                          X-Men Origins: Wolverine   \n",
       "1446   s1447    Movie    Night at the Museum: Battle of the Smithsonian   \n",
       "1447   s1448    Movie                                   Eddie the Eagle   \n",
       "1448   s1449    Movie                              Bend It Like Beckham   \n",
       "1449   s1450    Movie             Captain Sparky vs. The Flying Saucers   \n",
       "\n",
       "                               director  \\\n",
       "0     Alonso Ramirez Ramos, Dave Wasson   \n",
       "1                           John Cherry   \n",
       "2                          Karen Disher   \n",
       "3                       Hamish Hamilton   \n",
       "4                                   NaN   \n",
       "...                                 ...   \n",
       "1445                         Gavin Hood   \n",
       "1446                         Shawn Levy   \n",
       "1447                    Dexter Fletcher   \n",
       "1448                    Gurinder Chadha   \n",
       "1449                        Mark Waring   \n",
       "\n",
       "                                                   cast  \\\n",
       "0     Chris Diamantopoulos, Tony Anselmo, Tress MacN...   \n",
       "1              Jim Varney, Noelle Parker, Douglas Seale   \n",
       "2     Raymond Albert Romano, John Leguizamo, Denis L...   \n",
       "3     Darren Criss, Adam Lambert, Derek Hough, Alexa...   \n",
       "4     John Lennon, Paul McCartney, George Harrison, ...   \n",
       "...                                                 ...   \n",
       "1445  Hugh Jackman, Liev Schreiber, Danny Huston, wi...   \n",
       "1446  Ben Stiller, Amy Adams, Owen Wilson, Hank Azar...   \n",
       "1447  Tom Costello, Jo Hartley, Keith Allen, Dickon ...   \n",
       "1448  Parminder Nagra, Keira Knightley, Jonathan Rhy...   \n",
       "1449                                      Charlie Tahan   \n",
       "\n",
       "                                     country          date_added  \\\n",
       "0                              United States   November 26, 2021   \n",
       "1                              United States   November 26, 2021   \n",
       "2                              United States   November 26, 2021   \n",
       "3                              United States   November 26, 2021   \n",
       "4                              United States   November 25, 2021   \n",
       "...                                      ...                 ...   \n",
       "1445           United States, United Kingdom        June 4, 2021   \n",
       "1446                   United States, Canada       April 2, 2021   \n",
       "1447  United Kingdom, Germany, United States   December 18, 2020   \n",
       "1448  United Kingdom, Germany, United States  September 18, 2020   \n",
       "1449                           United States       April 1, 2020   \n",
       "\n",
       "      release_year rating  duration  \\\n",
       "0             2016   TV-G    23 min   \n",
       "1             1988     PG    91 min   \n",
       "2             2011   TV-G    23 min   \n",
       "3             2021  TV-PG    41 min   \n",
       "4             2021    NaN  1 Season   \n",
       "...            ...    ...       ...   \n",
       "1445          2009  PG-13   108 min   \n",
       "1446          2009     PG   106 min   \n",
       "1447          2016  PG-13   107 min   \n",
       "1448          2003  PG-13   112 min   \n",
       "1449          2012   TV-G     2 min   \n",
       "\n",
       "                                          listed_in  \\\n",
       "0                                 Animation, Family   \n",
       "1                                            Comedy   \n",
       "2                         Animation, Comedy, Family   \n",
       "3                                           Musical   \n",
       "4                     Docuseries, Historical, Music   \n",
       "...                                             ...   \n",
       "1445      Action-Adventure, Family, Science Fiction   \n",
       "1446               Action-Adventure, Comedy, Family   \n",
       "1447                    Biographical, Comedy, Drama   \n",
       "1448                   Buddy, Comedy, Coming of Age   \n",
       "1449  Action-Adventure, Animals & Nature, Animation   \n",
       "\n",
       "                                            description  \n",
       "0      Join Mickey and the gang as they duck the halls!  \n",
       "1     Santa Claus passes his magic bag to a new St. ...  \n",
       "2             Sid the Sloth is on Santa's naughty list.  \n",
       "3                  This is real life, not just fantasy!  \n",
       "4     A three-part documentary from Peter Jackson ca...  \n",
       "...                                                 ...  \n",
       "1445  Wolverine unites with legendary X-Men to fight...  \n",
       "1446  Larry Daley returns to rescue some old friends...  \n",
       "1447  True story of Eddie Edwards, a British ski-jum...  \n",
       "1448  Despite the wishes of their traditional famili...  \n",
       "1449         View one of Sparky's favorite home movies.  \n",
       "\n",
       "[1450 rows x 12 columns]"
      ]
     },
     "execution_count": 11,
     "metadata": {},
     "output_type": "execute_result"
    }
   ],
   "source": [
    "df['country'] = df['country'].fillna(df['country'].mode()[0])\n",
    "df"
   ]
  },
  {
   "cell_type": "code",
   "execution_count": 12,
   "id": "a28cd045",
   "metadata": {},
   "outputs": [
    {
     "data": {
      "text/plain": [
       "show_id           0\n",
       "type              0\n",
       "title             0\n",
       "director        473\n",
       "cast            190\n",
       "country           0\n",
       "date_added        3\n",
       "release_year      0\n",
       "rating            3\n",
       "duration          0\n",
       "listed_in         0\n",
       "description       0\n",
       "dtype: int64"
      ]
     },
     "execution_count": 12,
     "metadata": {},
     "output_type": "execute_result"
    }
   ],
   "source": [
    "df.isnull().sum() "
   ]
  },
  {
   "cell_type": "code",
   "execution_count": 13,
   "id": "b7048459",
   "metadata": {},
   "outputs": [
    {
     "data": {
      "text/plain": [
       "<AxesSubplot:>"
      ]
     },
     "execution_count": 13,
     "metadata": {},
     "output_type": "execute_result"
    },
    {
     "data": {
      "image/png": "[encoded data removed]",
      "text/plain": [
       "<Figure size 432x288 with 1 Axes>"
      ]
     },
     "metadata": {
      "needs_background": "light"
     },
     "output_type": "display_data"
    }
   ],
   "source": [
    "sns.heatmap(df.isnull(), cbar=False)"
   ]
  },
  {
   "cell_type": "code",
   "execution_count": 14,
   "id": "760f6cae",
   "metadata": {},
   "outputs": [
    {
     "data": {
      "text/html": [
       "<div>\n",
       "<style scoped>\n",
       "    .dataframe tbody tr th:only-of-type {\n",
       "        vertical-align: middle;\n",
       "    }\n",
       "\n",
       "    .dataframe tbody tr th {\n",
       "        vertical-align: top;\n",
       "    }\n",
       "\n",
       "    .dataframe thead th {\n",
       "        text-align: right;\n",
       "    }\n",
       "</style>\n",
       "<table border=\"1\" class=\"dataframe\">\n",
       "  <thead>\n",
       "    <tr style=\"text-align: right;\">\n",
       "      <th></th>\n",
       "      <th>show_id</th>\n",
       "      <th>type</th>\n",
       "      <th>title</th>\n",
       "      <th>country</th>\n",
       "      <th>release_year</th>\n",
       "      <th>rating</th>\n",
       "      <th>duration</th>\n",
       "      <th>listed_in</th>\n",
       "      <th>description</th>\n",
       "    </tr>\n",
       "  </thead>\n",
       "  <tbody>\n",
       "    <tr>\n",
       "      <th>0</th>\n",
       "      <td>s1</td>\n",
       "      <td>Movie</td>\n",
       "      <td>Duck the Halls: A Mickey Mouse Christmas Special</td>\n",
       "      <td>United States</td>\n",
       "      <td>2016</td>\n",
       "      <td>TV-G</td>\n",
       "      <td>23 min</td>\n",
       "      <td>Animation, Family</td>\n",
       "      <td>Join Mickey and the gang as they duck the halls!</td>\n",
       "    </tr>\n",
       "    <tr>\n",
       "      <th>1</th>\n",
       "      <td>s2</td>\n",
       "      <td>Movie</td>\n",
       "      <td>Ernest Saves Christmas</td>\n",
       "      <td>United States</td>\n",
       "      <td>1988</td>\n",
       "      <td>PG</td>\n",
       "      <td>91 min</td>\n",
       "      <td>Comedy</td>\n",
       "      <td>Santa Claus passes his magic bag to a new St. ...</td>\n",
       "    </tr>\n",
       "    <tr>\n",
       "      <th>2</th>\n",
       "      <td>s3</td>\n",
       "      <td>Movie</td>\n",
       "      <td>Ice Age: A Mammoth Christmas</td>\n",
       "      <td>United States</td>\n",
       "      <td>2011</td>\n",
       "      <td>TV-G</td>\n",
       "      <td>23 min</td>\n",
       "      <td>Animation, Comedy, Family</td>\n",
       "      <td>Sid the Sloth is on Santa's naughty list.</td>\n",
       "    </tr>\n",
       "    <tr>\n",
       "      <th>3</th>\n",
       "      <td>s4</td>\n",
       "      <td>Movie</td>\n",
       "      <td>The Queen Family Singalong</td>\n",
       "      <td>United States</td>\n",
       "      <td>2021</td>\n",
       "      <td>TV-PG</td>\n",
       "      <td>41 min</td>\n",
       "      <td>Musical</td>\n",
       "      <td>This is real life, not just fantasy!</td>\n",
       "    </tr>\n",
       "    <tr>\n",
       "      <th>4</th>\n",
       "      <td>s5</td>\n",
       "      <td>TV Show</td>\n",
       "      <td>The Beatles: Get Back</td>\n",
       "      <td>United States</td>\n",
       "      <td>2021</td>\n",
       "      <td>NaN</td>\n",
       "      <td>1 Season</td>\n",
       "      <td>Docuseries, Historical, Music</td>\n",
       "      <td>A three-part documentary from Peter Jackson ca...</td>\n",
       "    </tr>\n",
       "    <tr>\n",
       "      <th>...</th>\n",
       "      <td>...</td>\n",
       "      <td>...</td>\n",
       "      <td>...</td>\n",
       "      <td>...</td>\n",
       "      <td>...</td>\n",
       "      <td>...</td>\n",
       "      <td>...</td>\n",
       "      <td>...</td>\n",
       "      <td>...</td>\n",
       "    </tr>\n",
       "    <tr>\n",
       "      <th>1445</th>\n",
       "      <td>s1446</td>\n",
       "      <td>Movie</td>\n",
       "      <td>X-Men Origins: Wolverine</td>\n",
       "      <td>United States, United Kingdom</td>\n",
       "      <td>2009</td>\n",
       "      <td>PG-13</td>\n",
       "      <td>108 min</td>\n",
       "      <td>Action-Adventure, Family, Science Fiction</td>\n",
       "      <td>Wolverine unites with legendary X-Men to fight...</td>\n",
       "    </tr>\n",
       "    <tr>\n",
       "      <th>1446</th>\n",
       "      <td>s1447</td>\n",
       "      <td>Movie</td>\n",
       "      <td>Night at the Museum: Battle of the Smithsonian</td>\n",
       "      <td>United States, Canada</td>\n",
       "      <td>2009</td>\n",
       "      <td>PG</td>\n",
       "      <td>106 min</td>\n",
       "      <td>Action-Adventure, Comedy, Family</td>\n",
       "      <td>Larry Daley returns to rescue some old friends...</td>\n",
       "    </tr>\n",
       "    <tr>\n",
       "      <th>1447</th>\n",
       "      <td>s1448</td>\n",
       "      <td>Movie</td>\n",
       "      <td>Eddie the Eagle</td>\n",
       "      <td>United Kingdom, Germany, United States</td>\n",
       "      <td>2016</td>\n",
       "      <td>PG-13</td>\n",
       "      <td>107 min</td>\n",
       "      <td>Biographical, Comedy, Drama</td>\n",
       "      <td>True story of Eddie Edwards, a British ski-jum...</td>\n",
       "    </tr>\n",
       "    <tr>\n",
       "      <th>1448</th>\n",
       "      <td>s1449</td>\n",
       "      <td>Movie</td>\n",
       "      <td>Bend It Like Beckham</td>\n",
       "      <td>United Kingdom, Germany, United States</td>\n",
       "      <td>2003</td>\n",
       "      <td>PG-13</td>\n",
       "      <td>112 min</td>\n",
       "      <td>Buddy, Comedy, Coming of Age</td>\n",
       "      <td>Despite the wishes of their traditional famili...</td>\n",
       "    </tr>\n",
       "    <tr>\n",
       "      <th>1449</th>\n",
       "      <td>s1450</td>\n",
       "      <td>Movie</td>\n",
       "      <td>Captain Sparky vs. The Flying Saucers</td>\n",
       "      <td>United States</td>\n",
       "      <td>2012</td>\n",
       "      <td>TV-G</td>\n",
       "      <td>2 min</td>\n",
       "      <td>Action-Adventure, Animals &amp; Nature, Animation</td>\n",
       "      <td>View one of Sparky's favorite home movies.</td>\n",
       "    </tr>\n",
       "  </tbody>\n",
       "</table>\n",
       "<p>1450 rows × 9 columns</p>\n",
       "</div>"
      ],
      "text/plain": [
       "     show_id     type                                             title  \\\n",
       "0         s1    Movie  Duck the Halls: A Mickey Mouse Christmas Special   \n",
       "1         s2    Movie                            Ernest Saves Christmas   \n",
       "2         s3    Movie                      Ice Age: A Mammoth Christmas   \n",
       "3         s4    Movie                        The Queen Family Singalong   \n",
       "4         s5  TV Show                             The Beatles: Get Back   \n",
       "...      ...      ...                                               ...   \n",
       "1445   s1446    Movie                          X-Men Origins: Wolverine   \n",
       "1446   s1447    Movie    Night at the Museum: Battle of the Smithsonian   \n",
       "1447   s1448    Movie                                   Eddie the Eagle   \n",
       "1448   s1449    Movie                              Bend It Like Beckham   \n",
       "1449   s1450    Movie             Captain Sparky vs. The Flying Saucers   \n",
       "\n",
       "                                     country  release_year rating  duration  \\\n",
       "0                              United States          2016   TV-G    23 min   \n",
       "1                              United States          1988     PG    91 min   \n",
       "2                              United States          2011   TV-G    23 min   \n",
       "3                              United States          2021  TV-PG    41 min   \n",
       "4                              United States          2021    NaN  1 Season   \n",
       "...                                      ...           ...    ...       ...   \n",
       "1445           United States, United Kingdom          2009  PG-13   108 min   \n",
       "1446                   United States, Canada          2009     PG   106 min   \n",
       "1447  United Kingdom, Germany, United States          2016  PG-13   107 min   \n",
       "1448  United Kingdom, Germany, United States          2003  PG-13   112 min   \n",
       "1449                           United States          2012   TV-G     2 min   \n",
       "\n",
       "                                          listed_in  \\\n",
       "0                                 Animation, Family   \n",
       "1                                            Comedy   \n",
       "2                         Animation, Comedy, Family   \n",
       "3                                           Musical   \n",
       "4                     Docuseries, Historical, Music   \n",
       "...                                             ...   \n",
       "1445      Action-Adventure, Family, Science Fiction   \n",
       "1446               Action-Adventure, Comedy, Family   \n",
       "1447                    Biographical, Comedy, Drama   \n",
       "1448                   Buddy, Comedy, Coming of Age   \n",
       "1449  Action-Adventure, Animals & Nature, Animation   \n",
       "\n",
       "                                            description  \n",
       "0      Join Mickey and the gang as they duck the halls!  \n",
       "1     Santa Claus passes his magic bag to a new St. ...  \n",
       "2             Sid the Sloth is on Santa's naughty list.  \n",
       "3                  This is real life, not just fantasy!  \n",
       "4     A three-part documentary from Peter Jackson ca...  \n",
       "...                                                 ...  \n",
       "1445  Wolverine unites with legendary X-Men to fight...  \n",
       "1446  Larry Daley returns to rescue some old friends...  \n",
       "1447  True story of Eddie Edwards, a British ski-jum...  \n",
       "1448  Despite the wishes of their traditional famili...  \n",
       "1449         View one of Sparky's favorite home movies.  \n",
       "\n",
       "[1450 rows x 9 columns]"
      ]
     },
     "execution_count": 14,
     "metadata": {},
     "output_type": "execute_result"
    }
   ],
   "source": [
    "#drop column not needed in analysis \n",
    "\n",
    "df= df.drop(['director','cast','date_added'], axis=1)\n",
    "\n",
    "\n",
    "df"
   ]
  },
  {
   "cell_type": "code",
   "execution_count": 51,
   "id": "857c08b3",
   "metadata": {},
   "outputs": [
    {
     "data": {
      "text/plain": [
       "show_id         0\n",
       "type            0\n",
       "title           0\n",
       "country         0\n",
       "release_year    0\n",
       "rating          3\n",
       "duration        0\n",
       "listed_in       0\n",
       "description     0\n",
       "dtype: int64"
      ]
     },
     "execution_count": 51,
     "metadata": {},
     "output_type": "execute_result"
    }
   ],
   "source": [
    "df.isnull().sum()"
   ]
  },
  {
   "cell_type": "code",
   "execution_count": 52,
   "id": "f2dded4b",
   "metadata": {},
   "outputs": [
    {
     "data": {
      "text/plain": [
       "<AxesSubplot:>"
      ]
     },
     "execution_count": 52,
     "metadata": {},
     "output_type": "execute_result"
    },
    {
     "data": {
      "image/png": "[encoded data removed]",
      "text/plain": [
       "<Figure size 432x288 with 1 Axes>"
      ]
     },
     "metadata": {
      "needs_background": "light"
     },
     "output_type": "display_data"
    }
   ],
   "source": [
    "sns.heatmap(df.isnull(), cbar=False)"
   ]
  },
  {
   "cell_type": "code",
   "execution_count": 55,
   "id": "2f25b4e9",
   "metadata": {},
   "outputs": [],
   "source": [
    "df.dropna(how='any',inplace=True)"
   ]
  },
  {
   "cell_type": "code",
   "execution_count": 56,
   "id": "aa452596",
   "metadata": {},
   "outputs": [
    {
     "data": {
      "text/plain": [
       "show_id         0\n",
       "type            0\n",
       "title           0\n",
       "country         0\n",
       "release_year    0\n",
       "rating          0\n",
       "duration        0\n",
       "listed_in       0\n",
       "description     0\n",
       "dtype: int64"
      ]
     },
     "execution_count": 56,
     "metadata": {},
     "output_type": "execute_result"
    }
   ],
   "source": [
    "df.isnull().sum()"
   ]
  },
  {
   "cell_type": "markdown",
   "id": "92dfd8ae",
   "metadata": {},
   "source": [
    "No Null Values and no Duplicate Values."
   ]
  },
  {
   "cell_type": "code",
   "execution_count": 57,
   "id": "1138aee8",
   "metadata": {},
   "outputs": [
    {
     "name": "stdout",
     "output_type": "stream",
     "text": [
      "<class 'pandas.core.frame.DataFrame'>\n",
      "Int64Index: 1447 entries, 0 to 1449\n",
      "Data columns (total 9 columns):\n",
      " #   Column        Non-Null Count  Dtype \n",
      "---  ------        --------------  ----- \n",
      " 0   show_id       1447 non-null   object\n",
      " 1   type          1447 non-null   object\n",
      " 2   title         1447 non-null   object\n",
      " 3   country       1447 non-null   object\n",
      " 4   release_year  1447 non-null   int64 \n",
      " 5   rating        1447 non-null   object\n",
      " 6   duration      1447 non-null   object\n",
      " 7   listed_in     1447 non-null   object\n",
      " 8   description   1447 non-null   object\n",
      "dtypes: int64(1), object(8)\n",
      "memory usage: 113.0+ KB\n"
     ]
    }
   ],
   "source": [
    "df.info()"
   ]
  },
  {
   "cell_type": "markdown",
   "id": "f621f78d",
   "metadata": {},
   "source": [
    "# Exploratory Data Analysis"
   ]
  },
  {
   "cell_type": "markdown",
   "id": "a975830e",
   "metadata": {},
   "source": [
    "# Problem Statement"
   ]
  },
  {
   "cell_type": "markdown",
   "id": "b7db6f04",
   "metadata": {},
   "source": [
    "We are going to analyse the What type of content is available? What is the quality of that content ?\n",
    "What is  the time duration of that content? What genre available and most watched by audiance."
   ]
  },
  {
   "cell_type": "markdown",
   "id": "771da292",
   "metadata": {},
   "source": [
    "# Which type of Contents available on Disney+  ? and what is the ratio?"
   ]
  },
  {
   "cell_type": "code",
   "execution_count": 15,
   "id": "9d0fe2a0",
   "metadata": {},
   "outputs": [
    {
     "data": {
      "text/plain": [
       "<AxesSubplot:ylabel='type'>"
      ]
     },
     "execution_count": 15,
     "metadata": {},
     "output_type": "execute_result"
    },
    {
     "data": {
      "image/png": "[encoded data removed]",
      "text/plain": [
       "<Figure size 432x288 with 1 Axes>"
      ]
     },
     "metadata": {},
     "output_type": "display_data"
    }
   ],
   "source": [
    "df.type.value_counts().plot.pie(fontsize = 18, autopct = '%.2f')"
   ]
  },
  {
   "cell_type": "code",
   "execution_count": 16,
   "id": "7b4e05f2",
   "metadata": {},
   "outputs": [
    {
     "data": {
      "text/plain": [
       "Movie      1052\n",
       "TV Show     398\n",
       "Name: type, dtype: int64"
      ]
     },
     "execution_count": 16,
     "metadata": {},
     "output_type": "execute_result"
    }
   ],
   "source": [
    "df[\"type\"].value_counts()"
   ]
  },
  {
   "cell_type": "markdown",
   "id": "7e230b7f",
   "metadata": {},
   "source": [
    "---->  72.63 % movies and 27.37% TV shows are available on Disney+.\n",
    "\n",
    "---->  1052 movies and 398 TV shows that means More movies are available on Disney+ till date."
   ]
  },
  {
   "cell_type": "markdown",
   "id": "b47083c2",
   "metadata": {},
   "source": [
    "# Release Year"
   ]
  },
  {
   "cell_type": "markdown",
   "id": "8095a547",
   "metadata": {},
   "source": [
    "# In which year highest number of movies and TV shows were released?"
   ]
  },
  {
   "cell_type": "code",
   "execution_count": 17,
   "id": "7049b8cc",
   "metadata": {},
   "outputs": [
    {
     "data": {
      "text/plain": [
       "<AxesSubplot:xlabel='release_year', ylabel='Count'>"
      ]
     },
     "execution_count": 17,
     "metadata": {},
     "output_type": "execute_result"
    },
    {
     "data": {
      "image/png": "[encoded data removed]",
      "text/plain": [
       "<Figure size 720x576 with 1 Axes>"
      ]
     },
     "metadata": {
      "needs_background": "light"
     },
     "output_type": "display_data"
    }
   ],
   "source": [
    "plt.figure(figsize=(10,8))\n",
    "sns.histplot(x=df[\"release_year\"])\n"
   ]
  },
  {
   "cell_type": "code",
   "execution_count": 18,
   "id": "236dafe3",
   "metadata": {},
   "outputs": [
    {
     "data": {
      "text/plain": [
       "2021    125\n",
       "2020    114\n",
       "2019     99\n",
       "2017     69\n",
       "2018     65\n",
       "2016     61\n",
       "2011     52\n",
       "2014     50\n",
       "2015     46\n",
       "2012     41\n",
       "Name: release_year, dtype: int64"
      ]
     },
     "execution_count": 18,
     "metadata": {},
     "output_type": "execute_result"
    }
   ],
   "source": [
    "df[\"release_year\"].value_counts().head(10)"
   ]
  },
  {
   "cell_type": "code",
   "execution_count": 19,
   "id": "e31d6763",
   "metadata": {},
   "outputs": [
    {
     "data": {
      "text/plain": [
       "<AxesSubplot:xlabel='release_year', ylabel='Count'>"
      ]
     },
     "execution_count": 19,
     "metadata": {},
     "output_type": "execute_result"
    },
    {
     "data": {
      "image/png": "[encoded data removed]",
      "text/plain": [
       "<Figure size 432x288 with 1 Axes>"
      ]
     },
     "metadata": {
      "needs_background": "light"
     },
     "output_type": "display_data"
    }
   ],
   "source": [
    "sns.histplot(data=df, x=\"release_year\",bins=10,hue='type',multiple=\"dodge\", shrink=.8)"
   ]
  },
  {
   "cell_type": "markdown",
   "id": "37f59f85",
   "metadata": {},
   "source": [
    "----> In year 2020 maximum no. of movies and Tv shows were released.\n",
    "\n",
    "----> Around 400 movies and 250 Tv shows were released."
   ]
  },
  {
   "cell_type": "code",
   "execution_count": 20,
   "id": "60668b07",
   "metadata": {},
   "outputs": [
    {
     "data": {
      "text/html": [
       "<div>\n",
       "<style scoped>\n",
       "    .dataframe tbody tr th:only-of-type {\n",
       "        vertical-align: middle;\n",
       "    }\n",
       "\n",
       "    .dataframe tbody tr th {\n",
       "        vertical-align: top;\n",
       "    }\n",
       "\n",
       "    .dataframe thead th {\n",
       "        text-align: right;\n",
       "    }\n",
       "</style>\n",
       "<table border=\"1\" class=\"dataframe\">\n",
       "  <thead>\n",
       "    <tr style=\"text-align: right;\">\n",
       "      <th></th>\n",
       "      <th>show_id</th>\n",
       "      <th>type</th>\n",
       "      <th>title</th>\n",
       "      <th>country</th>\n",
       "      <th>release_year</th>\n",
       "      <th>rating</th>\n",
       "      <th>duration</th>\n",
       "      <th>listed_in</th>\n",
       "      <th>description</th>\n",
       "    </tr>\n",
       "  </thead>\n",
       "  <tbody>\n",
       "    <tr>\n",
       "      <th>39</th>\n",
       "      <td>s40</td>\n",
       "      <td>Movie</td>\n",
       "      <td>Tick Tock Tale</td>\n",
       "      <td>United States</td>\n",
       "      <td>2010</td>\n",
       "      <td>G</td>\n",
       "      <td>6 min</td>\n",
       "      <td>Animation, Crime, Family</td>\n",
       "      <td>A tale of a quirky mantle clock.</td>\n",
       "    </tr>\n",
       "    <tr>\n",
       "      <th>45</th>\n",
       "      <td>s46</td>\n",
       "      <td>Movie</td>\n",
       "      <td>Prep &amp; Landing: Operation Secret Santa</td>\n",
       "      <td>United States</td>\n",
       "      <td>2010</td>\n",
       "      <td>TV-G</td>\n",
       "      <td>8 min</td>\n",
       "      <td>Animation, Family, Fantasy</td>\n",
       "      <td>Mrs. Claus enlists two elves in a secret mission.</td>\n",
       "    </tr>\n",
       "    <tr>\n",
       "      <th>49</th>\n",
       "      <td>s50</td>\n",
       "      <td>Movie</td>\n",
       "      <td>The Search for Santa Paws</td>\n",
       "      <td>Canada</td>\n",
       "      <td>2010</td>\n",
       "      <td>G</td>\n",
       "      <td>101 min</td>\n",
       "      <td>Drama, Family, Fantasy</td>\n",
       "      <td>Discover how the legendary friendship of Santa...</td>\n",
       "    </tr>\n",
       "    <tr>\n",
       "      <th>303</th>\n",
       "      <td>s304</td>\n",
       "      <td>Movie</td>\n",
       "      <td>You Again</td>\n",
       "      <td>United States</td>\n",
       "      <td>2010</td>\n",
       "      <td>PG</td>\n",
       "      <td>106 min</td>\n",
       "      <td>Comedy</td>\n",
       "      <td>An unlikely reunion causes high school drama t...</td>\n",
       "    </tr>\n",
       "    <tr>\n",
       "      <th>378</th>\n",
       "      <td>s379</td>\n",
       "      <td>Movie</td>\n",
       "      <td>The Sorcerer's Apprentice</td>\n",
       "      <td>United States</td>\n",
       "      <td>2010</td>\n",
       "      <td>PG</td>\n",
       "      <td>111 min</td>\n",
       "      <td>Action-Adventure, Fantasy</td>\n",
       "      <td>A modern-day sorcerer must make his seemingly ...</td>\n",
       "    </tr>\n",
       "    <tr>\n",
       "      <th>393</th>\n",
       "      <td>s394</td>\n",
       "      <td>Movie</td>\n",
       "      <td>The Chronicles Of Narnia: The Voyage of the Da...</td>\n",
       "      <td>United States, United Kingdom</td>\n",
       "      <td>2010</td>\n",
       "      <td>PG</td>\n",
       "      <td>113 min</td>\n",
       "      <td>Action-Adventure, Family, Fantasy</td>\n",
       "      <td>Three heroes sail with King Caspian to help Na...</td>\n",
       "    </tr>\n",
       "    <tr>\n",
       "      <th>398</th>\n",
       "      <td>s399</td>\n",
       "      <td>Movie</td>\n",
       "      <td>Disneynature Oceans</td>\n",
       "      <td>France, Switzerland, Spain, United States, Uni...</td>\n",
       "      <td>2010</td>\n",
       "      <td>G</td>\n",
       "      <td>84 min</td>\n",
       "      <td>Animals &amp; Nature, Documentary, Family</td>\n",
       "      <td>Journey into the depths of a wonderland filled...</td>\n",
       "    </tr>\n",
       "    <tr>\n",
       "      <th>441</th>\n",
       "      <td>s442</td>\n",
       "      <td>Movie</td>\n",
       "      <td>Prince of Persia: The Sands of Time</td>\n",
       "      <td>United States</td>\n",
       "      <td>2010</td>\n",
       "      <td>PG-13</td>\n",
       "      <td>117 min</td>\n",
       "      <td>Action-Adventure, Fantasy</td>\n",
       "      <td>A rogue prince and rival princess safeguard a ...</td>\n",
       "    </tr>\n",
       "    <tr>\n",
       "      <th>495</th>\n",
       "      <td>s496</td>\n",
       "      <td>Movie</td>\n",
       "      <td>Big Sur: Wild California</td>\n",
       "      <td>United States</td>\n",
       "      <td>2010</td>\n",
       "      <td>TV-PG</td>\n",
       "      <td>47 min</td>\n",
       "      <td>Animals &amp; Nature, Documentary, Family</td>\n",
       "      <td>Why is California's Big Sur coastline experien...</td>\n",
       "    </tr>\n",
       "    <tr>\n",
       "      <th>512</th>\n",
       "      <td>s513</td>\n",
       "      <td>Movie</td>\n",
       "      <td>Percy Jackson &amp; The Olympians: The Lightning T...</td>\n",
       "      <td>United Kingdom, Canada, United States</td>\n",
       "      <td>2010</td>\n",
       "      <td>PG</td>\n",
       "      <td>119 min</td>\n",
       "      <td>Action-Adventure, Family, Fantasy</td>\n",
       "      <td>A boy discovers he's the descendant of Poseido...</td>\n",
       "    </tr>\n",
       "    <tr>\n",
       "      <th>596</th>\n",
       "      <td>s597</td>\n",
       "      <td>Movie</td>\n",
       "      <td>The Last Song</td>\n",
       "      <td>United States</td>\n",
       "      <td>2010</td>\n",
       "      <td>PG</td>\n",
       "      <td>109 min</td>\n",
       "      <td>Coming of Age, Drama, Music</td>\n",
       "      <td>A rebellious daughter and her estranged father...</td>\n",
       "    </tr>\n",
       "    <tr>\n",
       "      <th>649</th>\n",
       "      <td>s650</td>\n",
       "      <td>Movie</td>\n",
       "      <td>Cars Toon: Moon Mater</td>\n",
       "      <td>United States</td>\n",
       "      <td>2010</td>\n",
       "      <td>TV-G</td>\n",
       "      <td>4 min</td>\n",
       "      <td>Animation, Comedy, Family</td>\n",
       "      <td>Mater’s mission on the moon: rescue the Impala...</td>\n",
       "    </tr>\n",
       "    <tr>\n",
       "      <th>650</th>\n",
       "      <td>s651</td>\n",
       "      <td>Movie</td>\n",
       "      <td>Cars Toon: Rescue Squad Mater</td>\n",
       "      <td>United States</td>\n",
       "      <td>2010</td>\n",
       "      <td>TV-Y7</td>\n",
       "      <td>3 min</td>\n",
       "      <td>Animation, Comedy, Family</td>\n",
       "      <td>Mater is a fire truck that rescues McQueen fro...</td>\n",
       "    </tr>\n",
       "    <tr>\n",
       "      <th>654</th>\n",
       "      <td>s655</td>\n",
       "      <td>Movie</td>\n",
       "      <td>Cars Toon: Unidentified Flying Mater</td>\n",
       "      <td>United States</td>\n",
       "      <td>2010</td>\n",
       "      <td>TV-Y7</td>\n",
       "      <td>4 min</td>\n",
       "      <td>Animation, Comedy, Family</td>\n",
       "      <td>Mater and Lightning McQueen rescue a UFO named...</td>\n",
       "    </tr>\n",
       "    <tr>\n",
       "      <th>772</th>\n",
       "      <td>s773</td>\n",
       "      <td>Movie</td>\n",
       "      <td>Camp Rock 2: The Final Jam</td>\n",
       "      <td>United States</td>\n",
       "      <td>2010</td>\n",
       "      <td>TV-G</td>\n",
       "      <td>101 min</td>\n",
       "      <td>Coming of Age, Music, Musical</td>\n",
       "      <td>To save Camp Rock, Mitchie challenges Camp Sta...</td>\n",
       "    </tr>\n",
       "    <tr>\n",
       "      <th>780</th>\n",
       "      <td>s781</td>\n",
       "      <td>Movie</td>\n",
       "      <td>Cars Toon: Heavy Metal Mater</td>\n",
       "      <td>United States</td>\n",
       "      <td>2010</td>\n",
       "      <td>TV-G</td>\n",
       "      <td>5 min</td>\n",
       "      <td>Animation, Comedy, Family</td>\n",
       "      <td>Mater is a rock star in a heavy metal band.</td>\n",
       "    </tr>\n",
       "    <tr>\n",
       "      <th>782</th>\n",
       "      <td>s783</td>\n",
       "      <td>Movie</td>\n",
       "      <td>Cars Toon: Mater Private Eye</td>\n",
       "      <td>United States</td>\n",
       "      <td>2010</td>\n",
       "      <td>TV-Y7</td>\n",
       "      <td>6 min</td>\n",
       "      <td>Animation, Comedy, Family</td>\n",
       "      <td>Mater searches for clues on a major crime scene.</td>\n",
       "    </tr>\n",
       "    <tr>\n",
       "      <th>784</th>\n",
       "      <td>s785</td>\n",
       "      <td>Movie</td>\n",
       "      <td>Cars Toon: Monster Truck Mater</td>\n",
       "      <td>United States</td>\n",
       "      <td>2010</td>\n",
       "      <td>TV-Y7</td>\n",
       "      <td>6 min</td>\n",
       "      <td>Animation, Comedy, Family</td>\n",
       "      <td>Mater is a monster truck wrestler.</td>\n",
       "    </tr>\n",
       "    <tr>\n",
       "      <th>808</th>\n",
       "      <td>s809</td>\n",
       "      <td>Movie</td>\n",
       "      <td>Day &amp; Night</td>\n",
       "      <td>United States</td>\n",
       "      <td>2010</td>\n",
       "      <td>G</td>\n",
       "      <td>8 min</td>\n",
       "      <td>Animation, Comedy, Family</td>\n",
       "      <td>When Day and Night meet each other, sparks fly!</td>\n",
       "    </tr>\n",
       "    <tr>\n",
       "      <th>812</th>\n",
       "      <td>s813</td>\n",
       "      <td>Movie</td>\n",
       "      <td>Diary Of A Wimpy Kid</td>\n",
       "      <td>United States, United Kingdom</td>\n",
       "      <td>2010</td>\n",
       "      <td>PG</td>\n",
       "      <td>93 min</td>\n",
       "      <td>Comedy, Family</td>\n",
       "      <td>Greg faces the scariest, most humiliating expe...</td>\n",
       "    </tr>\n",
       "    <tr>\n",
       "      <th>815</th>\n",
       "      <td>s816</td>\n",
       "      <td>Movie</td>\n",
       "      <td>Disney Avalon High</td>\n",
       "      <td>United States</td>\n",
       "      <td>2010</td>\n",
       "      <td>TV-G</td>\n",
       "      <td>91 min</td>\n",
       "      <td>Coming of Age, Fantasy</td>\n",
       "      <td>Allie is convinced that her new high school is...</td>\n",
       "    </tr>\n",
       "    <tr>\n",
       "      <th>818</th>\n",
       "      <td>s819</td>\n",
       "      <td>Movie</td>\n",
       "      <td>Disney Den Brother</td>\n",
       "      <td>United States</td>\n",
       "      <td>2010</td>\n",
       "      <td>TV-G</td>\n",
       "      <td>90 min</td>\n",
       "      <td>Comedy, Coming of Age</td>\n",
       "      <td>A hockey star hangs up his skates and becomes ...</td>\n",
       "    </tr>\n",
       "    <tr>\n",
       "      <th>980</th>\n",
       "      <td>s981</td>\n",
       "      <td>Movie</td>\n",
       "      <td>Journey to Shark Eden</td>\n",
       "      <td>United States</td>\n",
       "      <td>2010</td>\n",
       "      <td>TV-G</td>\n",
       "      <td>47 min</td>\n",
       "      <td>Action-Adventure, Animals &amp; Nature, Documentary</td>\n",
       "      <td>A team of scientists explores pristine coral r...</td>\n",
       "    </tr>\n",
       "    <tr>\n",
       "      <th>1048</th>\n",
       "      <td>s1049</td>\n",
       "      <td>Movie</td>\n",
       "      <td>Marvel Studios' Iron Man 2</td>\n",
       "      <td>United States</td>\n",
       "      <td>2010</td>\n",
       "      <td>PG-13</td>\n",
       "      <td>125 min</td>\n",
       "      <td>Action-Adventure, Science Fiction, Superhero</td>\n",
       "      <td>Inventor Tony Stark forges new alliances to co...</td>\n",
       "    </tr>\n",
       "    <tr>\n",
       "      <th>1183</th>\n",
       "      <td>s1184</td>\n",
       "      <td>Movie</td>\n",
       "      <td>Secretariat</td>\n",
       "      <td>United States</td>\n",
       "      <td>2010</td>\n",
       "      <td>PG</td>\n",
       "      <td>124 min</td>\n",
       "      <td>Animals &amp; Nature, Biographical, Drama</td>\n",
       "      <td>A housewife becomes the unlikely owner of a ra...</td>\n",
       "    </tr>\n",
       "    <tr>\n",
       "      <th>1219</th>\n",
       "      <td>s1220</td>\n",
       "      <td>Movie</td>\n",
       "      <td>Starstruck</td>\n",
       "      <td>United States</td>\n",
       "      <td>2010</td>\n",
       "      <td>TV-G</td>\n",
       "      <td>81 min</td>\n",
       "      <td>Comedy, Coming of Age, Music</td>\n",
       "      <td>Pop star Christopher Wilde must choose to foll...</td>\n",
       "    </tr>\n",
       "    <tr>\n",
       "      <th>1230</th>\n",
       "      <td>s1231</td>\n",
       "      <td>Movie</td>\n",
       "      <td>Tangled</td>\n",
       "      <td>United States</td>\n",
       "      <td>2010</td>\n",
       "      <td>PG</td>\n",
       "      <td>101 min</td>\n",
       "      <td>Action-Adventure, Animation, Family</td>\n",
       "      <td>Rapunzel and Flynn set off on a hilarious, hai...</td>\n",
       "    </tr>\n",
       "    <tr>\n",
       "      <th>1372</th>\n",
       "      <td>s1373</td>\n",
       "      <td>Movie</td>\n",
       "      <td>Tinker Bell and the Great Fairy Rescue</td>\n",
       "      <td>United States</td>\n",
       "      <td>2010</td>\n",
       "      <td>G</td>\n",
       "      <td>80 min</td>\n",
       "      <td>Action-Adventure, Animation, Fantasy</td>\n",
       "      <td>Tink risks her own safety when she befriends a...</td>\n",
       "    </tr>\n",
       "    <tr>\n",
       "      <th>1379</th>\n",
       "      <td>s1380</td>\n",
       "      <td>Movie</td>\n",
       "      <td>Toy Story 3</td>\n",
       "      <td>United States</td>\n",
       "      <td>2010</td>\n",
       "      <td>G</td>\n",
       "      <td>103 min</td>\n",
       "      <td>Animation, Comedy, Drama</td>\n",
       "      <td>Woody, Buzz and the gang return for more adven...</td>\n",
       "    </tr>\n",
       "    <tr>\n",
       "      <th>1400</th>\n",
       "      <td>s1401</td>\n",
       "      <td>Movie</td>\n",
       "      <td>Waking Sleeping Beauty</td>\n",
       "      <td>United States</td>\n",
       "      <td>2010</td>\n",
       "      <td>PG</td>\n",
       "      <td>87 min</td>\n",
       "      <td>Documentary</td>\n",
       "      <td>A revealing look at the events that ushered in...</td>\n",
       "    </tr>\n",
       "  </tbody>\n",
       "</table>\n",
       "</div>"
      ],
      "text/plain": [
       "     show_id   type                                              title  \\\n",
       "39       s40  Movie                                     Tick Tock Tale   \n",
       "45       s46  Movie             Prep & Landing: Operation Secret Santa   \n",
       "49       s50  Movie                          The Search for Santa Paws   \n",
       "303     s304  Movie                                          You Again   \n",
       "378     s379  Movie                          The Sorcerer's Apprentice   \n",
       "393     s394  Movie  The Chronicles Of Narnia: The Voyage of the Da...   \n",
       "398     s399  Movie                                Disneynature Oceans   \n",
       "441     s442  Movie                Prince of Persia: The Sands of Time   \n",
       "495     s496  Movie                           Big Sur: Wild California   \n",
       "512     s513  Movie  Percy Jackson & The Olympians: The Lightning T...   \n",
       "596     s597  Movie                                      The Last Song   \n",
       "649     s650  Movie                              Cars Toon: Moon Mater   \n",
       "650     s651  Movie                      Cars Toon: Rescue Squad Mater   \n",
       "654     s655  Movie               Cars Toon: Unidentified Flying Mater   \n",
       "772     s773  Movie                         Camp Rock 2: The Final Jam   \n",
       "780     s781  Movie                       Cars Toon: Heavy Metal Mater   \n",
       "782     s783  Movie                       Cars Toon: Mater Private Eye   \n",
       "784     s785  Movie                     Cars Toon: Monster Truck Mater   \n",
       "808     s809  Movie                                        Day & Night   \n",
       "812     s813  Movie                               Diary Of A Wimpy Kid   \n",
       "815     s816  Movie                                 Disney Avalon High   \n",
       "818     s819  Movie                                 Disney Den Brother   \n",
       "980     s981  Movie                              Journey to Shark Eden   \n",
       "1048   s1049  Movie                         Marvel Studios' Iron Man 2   \n",
       "1183   s1184  Movie                                        Secretariat   \n",
       "1219   s1220  Movie                                         Starstruck   \n",
       "1230   s1231  Movie                                            Tangled   \n",
       "1372   s1373  Movie             Tinker Bell and the Great Fairy Rescue   \n",
       "1379   s1380  Movie                                        Toy Story 3   \n",
       "1400   s1401  Movie                             Waking Sleeping Beauty   \n",
       "\n",
       "                                                country  release_year rating  \\\n",
       "39                                        United States          2010      G   \n",
       "45                                        United States          2010   TV-G   \n",
       "49                                               Canada          2010      G   \n",
       "303                                       United States          2010     PG   \n",
       "378                                       United States          2010     PG   \n",
       "393                       United States, United Kingdom          2010     PG   \n",
       "398   France, Switzerland, Spain, United States, Uni...          2010      G   \n",
       "441                                       United States          2010  PG-13   \n",
       "495                                       United States          2010  TV-PG   \n",
       "512               United Kingdom, Canada, United States          2010     PG   \n",
       "596                                       United States          2010     PG   \n",
       "649                                       United States          2010   TV-G   \n",
       "650                                       United States          2010  TV-Y7   \n",
       "654                                       United States          2010  TV-Y7   \n",
       "772                                       United States          2010   TV-G   \n",
       "780                                       United States          2010   TV-G   \n",
       "782                                       United States          2010  TV-Y7   \n",
       "784                                       United States          2010  TV-Y7   \n",
       "808                                       United States          2010      G   \n",
       "812                       United States, United Kingdom          2010     PG   \n",
       "815                                       United States          2010   TV-G   \n",
       "818                                       United States          2010   TV-G   \n",
       "980                                       United States          2010   TV-G   \n",
       "1048                                      United States          2010  PG-13   \n",
       "1183                                      United States          2010     PG   \n",
       "1219                                      United States          2010   TV-G   \n",
       "1230                                      United States          2010     PG   \n",
       "1372                                      United States          2010      G   \n",
       "1379                                      United States          2010      G   \n",
       "1400                                      United States          2010     PG   \n",
       "\n",
       "     duration                                        listed_in  \\\n",
       "39      6 min                         Animation, Crime, Family   \n",
       "45      8 min                       Animation, Family, Fantasy   \n",
       "49    101 min                           Drama, Family, Fantasy   \n",
       "303   106 min                                           Comedy   \n",
       "378   111 min                        Action-Adventure, Fantasy   \n",
       "393   113 min                Action-Adventure, Family, Fantasy   \n",
       "398    84 min            Animals & Nature, Documentary, Family   \n",
       "441   117 min                        Action-Adventure, Fantasy   \n",
       "495    47 min            Animals & Nature, Documentary, Family   \n",
       "512   119 min                Action-Adventure, Family, Fantasy   \n",
       "596   109 min                      Coming of Age, Drama, Music   \n",
       "649     4 min                        Animation, Comedy, Family   \n",
       "650     3 min                        Animation, Comedy, Family   \n",
       "654     4 min                        Animation, Comedy, Family   \n",
       "772   101 min                    Coming of Age, Music, Musical   \n",
       "780     5 min                        Animation, Comedy, Family   \n",
       "782     6 min                        Animation, Comedy, Family   \n",
       "784     6 min                        Animation, Comedy, Family   \n",
       "808     8 min                        Animation, Comedy, Family   \n",
       "812    93 min                                   Comedy, Family   \n",
       "815    91 min                           Coming of Age, Fantasy   \n",
       "818    90 min                            Comedy, Coming of Age   \n",
       "980    47 min  Action-Adventure, Animals & Nature, Documentary   \n",
       "1048  125 min     Action-Adventure, Science Fiction, Superhero   \n",
       "1183  124 min            Animals & Nature, Biographical, Drama   \n",
       "1219   81 min                     Comedy, Coming of Age, Music   \n",
       "1230  101 min              Action-Adventure, Animation, Family   \n",
       "1372   80 min             Action-Adventure, Animation, Fantasy   \n",
       "1379  103 min                         Animation, Comedy, Drama   \n",
       "1400   87 min                                      Documentary   \n",
       "\n",
       "                                            description  \n",
       "39                     A tale of a quirky mantle clock.  \n",
       "45    Mrs. Claus enlists two elves in a secret mission.  \n",
       "49    Discover how the legendary friendship of Santa...  \n",
       "303   An unlikely reunion causes high school drama t...  \n",
       "378   A modern-day sorcerer must make his seemingly ...  \n",
       "393   Three heroes sail with King Caspian to help Na...  \n",
       "398   Journey into the depths of a wonderland filled...  \n",
       "441   A rogue prince and rival princess safeguard a ...  \n",
       "495   Why is California's Big Sur coastline experien...  \n",
       "512   A boy discovers he's the descendant of Poseido...  \n",
       "596   A rebellious daughter and her estranged father...  \n",
       "649   Mater’s mission on the moon: rescue the Impala...  \n",
       "650   Mater is a fire truck that rescues McQueen fro...  \n",
       "654   Mater and Lightning McQueen rescue a UFO named...  \n",
       "772   To save Camp Rock, Mitchie challenges Camp Sta...  \n",
       "780         Mater is a rock star in a heavy metal band.  \n",
       "782    Mater searches for clues on a major crime scene.  \n",
       "784                  Mater is a monster truck wrestler.  \n",
       "808     When Day and Night meet each other, sparks fly!  \n",
       "812   Greg faces the scariest, most humiliating expe...  \n",
       "815   Allie is convinced that her new high school is...  \n",
       "818   A hockey star hangs up his skates and becomes ...  \n",
       "980   A team of scientists explores pristine coral r...  \n",
       "1048  Inventor Tony Stark forges new alliances to co...  \n",
       "1183  A housewife becomes the unlikely owner of a ra...  \n",
       "1219  Pop star Christopher Wilde must choose to foll...  \n",
       "1230  Rapunzel and Flynn set off on a hilarious, hai...  \n",
       "1372  Tink risks her own safety when she befriends a...  \n",
       "1379  Woody, Buzz and the gang return for more adven...  \n",
       "1400  A revealing look at the events that ushered in...  "
      ]
     },
     "execution_count": 20,
     "metadata": {},
     "output_type": "execute_result"
    }
   ],
   "source": [
    "df[(df['type']=='Movie') & (df['release_year']==2010)]"
   ]
  },
  {
   "cell_type": "markdown",
   "id": "ac54f12d",
   "metadata": {},
   "source": [
    "# Country analysis"
   ]
  },
  {
   "cell_type": "markdown",
   "id": "98040344",
   "metadata": {},
   "source": [
    "# Show the titles that are released in specific country"
   ]
  },
  {
   "cell_type": "code",
   "execution_count": 21,
   "id": "ae7c310b",
   "metadata": {},
   "outputs": [
    {
     "data": {
      "text/plain": [
       "5"
      ]
     },
     "execution_count": 21,
     "metadata": {},
     "output_type": "execute_result"
    }
   ],
   "source": [
    "df[df['country'].str.contains('India')]['country'].count()"
   ]
  },
  {
   "cell_type": "code",
   "execution_count": 22,
   "id": "fcc061e5",
   "metadata": {},
   "outputs": [
    {
     "data": {
      "text/plain": [
       "array(['United States', 'United States, Canada',\n",
       "       'United States, Australia', 'Canada',\n",
       "       'United States, United Kingdom', 'United States, South Korea',\n",
       "       'Ireland, United States, Canada, United Kingdom, Denmark, Spain, Poland, Hungary',\n",
       "       'France, United Kingdom', 'United Kingdom, Australia',\n",
       "       'Ireland, United States', 'Canada, United States, France',\n",
       "       'France, South Korea, Japan, United States', 'France',\n",
       "       'United States, United Kingdom, Hungary', 'United States, Germany',\n",
       "       'United States, United Kingdom, Australia', 'United States, India',\n",
       "       'United States, Canada, United Kingdom, Singapore, Australia, Thailand',\n",
       "       'Canada, United States',\n",
       "       'South Korea, United States, China, Japan',\n",
       "       'Australia, United Kingdom', 'United Kingdom',\n",
       "       'United States, United Kingdom, South Korea',\n",
       "       'United States, United Kingdom, Canada',\n",
       "       'United States, Germany, United Kingdom',\n",
       "       'United States, Canada, Ireland', 'United States, Brazil',\n",
       "       'United Kingdom, United States',\n",
       "       'United Kingdom, United States, Canada, Ireland',\n",
       "       'United States, United Kingdom, Belgium, Canada',\n",
       "       'Austria, South Africa', 'United States, Japan',\n",
       "       'United States, Spain', 'United Kingdom, United States, France',\n",
       "       'United States, Canada, Hong Kong', 'Argentina',\n",
       "       'United Arab Emirates', 'United States, Mexico',\n",
       "       'France, Switzerland, Spain, United States, United Arab Emirates',\n",
       "       'United Kingdom, France', 'Argentina, Mexico', 'India',\n",
       "       'France, Japan', 'United Kingdom, Canada, United States',\n",
       "       'United States, Ireland', 'France, United Kingdom, United States',\n",
       "       'United Kingdom, United States, Canada',\n",
       "       'United States, Germany, Ireland, United Kingdom',\n",
       "       'United States, United Kingdom, South Africa',\n",
       "       'United Kingdom, United States, Ireland', 'France, United States',\n",
       "       'Ireland, United Kingdom, United States, South Korea, Canada',\n",
       "       'United States, South Korea, France',\n",
       "       'United States, Australia, France, Canada',\n",
       "       'United States, Hungary, United Kingdom',\n",
       "       'United States, Hong Kong, South Korea, France, Canada, China, United Kingdom, Australia, Japan, Taiwan, Philippines',\n",
       "       'United States, Taiwan, South Korea, China, Japan, United Kingdom',\n",
       "       'Germany, United States', 'United Kingdom, Germany',\n",
       "       'United States, Philippines, South Korea',\n",
       "       'United Kingdom, China, United States', 'Tanzania, United States',\n",
       "       'United States, Panama, Mexico',\n",
       "       'United States, United Kingdom, Australia, Canada',\n",
       "       'United States, France',\n",
       "       'United States, Angola, Botswana, Namibia, South Africa',\n",
       "       'Canada, United States, United Kingdom, France, Luxembourg',\n",
       "       'Australia, United States', 'United States, Denmark',\n",
       "       'Denmark, China', 'United States, Guatemala',\n",
       "       'United States, South Korea, Singapore, Russia, Malaysia, Kazakhstan, Taiwan, Hong Kong, Japan, China, India, Syria, Iran, Egypt, Pakistan',\n",
       "       'United States, Canada, Australia',\n",
       "       'United States, South Korea, China, Taiwan',\n",
       "       'United States, Taiwan, China', 'United States, New Zealand',\n",
       "       'Canada, Malaysia, United States',\n",
       "       'United States, India, United Kingdom',\n",
       "       'Norway, Sweden, United States', 'France, Canada, United States',\n",
       "       'United States, Poland, Slovenia, Czech Republic, United Kingdom',\n",
       "       'United States, Canada, Australia, Taiwan',\n",
       "       'China, Hong Kong, United States',\n",
       "       'Austria, United Kingdom, United States', 'China', 'Germany',\n",
       "       'New Zealand, United States',\n",
       "       'United States, Spain, France, Canada, United Kingdom',\n",
       "       'United Kingdom, Germany, United States'], dtype=object)"
      ]
     },
     "execution_count": 22,
     "metadata": {},
     "output_type": "execute_result"
    }
   ],
   "source": [
    "df['country'].unique()"
   ]
  },
  {
   "cell_type": "code",
   "execution_count": 23,
   "id": "2681dcce",
   "metadata": {},
   "outputs": [
    {
     "data": {
      "text/plain": [
       "1403"
      ]
     },
     "execution_count": 23,
     "metadata": {},
     "output_type": "execute_result"
    }
   ],
   "source": [
    "df[df['country'].str.contains('United States')]['country'].count()"
   ]
  },
  {
   "cell_type": "code",
   "execution_count": 24,
   "id": "ddbda345",
   "metadata": {},
   "outputs": [
    {
     "data": {
      "text/plain": [
       "101"
      ]
     },
     "execution_count": 24,
     "metadata": {},
     "output_type": "execute_result"
    }
   ],
   "source": [
    "df[df['country'].str.contains('United Kingdom')]['country'].count()"
   ]
  },
  {
   "cell_type": "code",
   "execution_count": 25,
   "id": "86bf4529",
   "metadata": {},
   "outputs": [
    {
     "data": {
      "text/plain": [
       "9"
      ]
     },
     "execution_count": 25,
     "metadata": {},
     "output_type": "execute_result"
    }
   ],
   "source": [
    "df[df['country'].str.contains('Germany')]['country'].count()"
   ]
  },
  {
   "cell_type": "markdown",
   "id": "727b5369",
   "metadata": {},
   "source": [
    "# Rating"
   ]
  },
  {
   "cell_type": "markdown",
   "id": "63e4364d",
   "metadata": {},
   "source": [
    "# What are the different ratings defined by Disney+  ?"
   ]
  },
  {
   "cell_type": "code",
   "execution_count": 26,
   "id": "7e878626",
   "metadata": {},
   "outputs": [
    {
     "data": {
      "text/plain": [
       "array(['TV-G', 'PG', 'TV-PG', nan, 'PG-13', 'TV-14', 'G', 'TV-Y7', 'TV-Y',\n",
       "       'TV-Y7-FV'], dtype=object)"
      ]
     },
     "execution_count": 26,
     "metadata": {},
     "output_type": "execute_result"
    }
   ],
   "source": [
    "df['rating'].unique()"
   ]
  },
  {
   "cell_type": "markdown",
   "id": "bddd5e42",
   "metadata": {},
   "source": [
    "3 types of ratings are given to movies. and rest of the ratings are by Tv shows."
   ]
  },
  {
   "cell_type": "code",
   "execution_count": 27,
   "id": "829bee54",
   "metadata": {},
   "outputs": [
    {
     "data": {
      "text/plain": [
       "9"
      ]
     },
     "execution_count": 27,
     "metadata": {},
     "output_type": "execute_result"
    }
   ],
   "source": [
    "df['rating'].nunique()"
   ]
  },
  {
   "cell_type": "markdown",
   "id": "dc13bf25",
   "metadata": {},
   "source": [
    "In the words of the Motion Picture Association, \n",
    "\n",
    "TV-G     - TV-G definition: a television program rating advising parents that a program is suitable \n",
    "           for all ages\n",
    "           ( General Audiance)\n",
    "\n",
    "PG       - parental guidance: a rating assigned to a movie by the Motion Picture Association of America \n",
    "           indicating that children of all ages may attend \n",
    "           but that some material may be deemed unsuitable and that parental guidance is advised\n",
    "            \n",
    "TV-PG    - Parental Guidance Suggested.  Many parents may want to watch it with their younger children\n",
    "\n",
    "PG-13    - Parents Strongly Cautioned, Some Material May Be Inappropriate for Children Under 13. This rating is a stronger caution \n",
    "           for parents that content included may not be appropriate for children under 13\n",
    "    \n",
    "TV-14    - Parents Strongly Cautioned\n",
    "           This program contains some material that many parents would find unsuitable \n",
    "           for children under\n",
    "        \n",
    "G        - General Audiences — all ages admitted\n",
    "\n",
    "TV-Y7    - Directed to Older Children\n",
    "           This program is designed for children age 7 andabove. It may be more appropriate \n",
    "           for children who have acquired the developmental skills needed to distinguish\n",
    "           between make-believe and reality.\n",
    "            \n",
    "TV-Y     - All Children\n",
    "           This program is designed to be appropriate for all children\n",
    "    \n",
    "TV-Y7-FV - Directed to Older Children –\n",
    "           Fantasy Violence\n",
    "           For those programs where fantasy violence may be more\n",
    "           intense or more combative than other programs in this\n",
    "           category, such programs will be designated TV-Y7-FV"
   ]
  },
  {
   "cell_type": "markdown",
   "id": "b5d4a522",
   "metadata": {},
   "source": [
    "# Overall ratings on Disney+ "
   ]
  },
  {
   "cell_type": "code",
   "execution_count": 28,
   "id": "0b9e61ab",
   "metadata": {},
   "outputs": [
    {
     "data": {
      "text/plain": [
       "TV-G        318\n",
       "TV-PG       301\n",
       "G           253\n",
       "PG          236\n",
       "TV-Y7       131\n",
       "TV-14        79\n",
       "PG-13        66\n",
       "TV-Y         50\n",
       "TV-Y7-FV     13\n",
       "Name: rating, dtype: int64"
      ]
     },
     "execution_count": 28,
     "metadata": {},
     "output_type": "execute_result"
    }
   ],
   "source": [
    "df[\"rating\"].value_counts()"
   ]
  },
  {
   "cell_type": "code",
   "execution_count": 29,
   "id": "93cd8e70",
   "metadata": {},
   "outputs": [
    {
     "data": {
      "text/plain": [
       "<seaborn.axisgrid.FacetGrid at 0x224a2c80dc0>"
      ]
     },
     "execution_count": 29,
     "metadata": {},
     "output_type": "execute_result"
    },
    {
     "data": {
      "image/png": "[encoded data removed]",
      "text/plain": [
       "<Figure size 360x360 with 1 Axes>"
      ]
     },
     "metadata": {
      "needs_background": "light"
     },
     "output_type": "display_data"
    }
   ],
   "source": [
    "sns.catplot(x ='rating', kind = 'count',  data = df )    # hue = 'type'"
   ]
  },
  {
   "cell_type": "markdown",
   "id": "03689b11",
   "metadata": {},
   "source": [
    "Till 2021, Maximum movies and TV shows got TV-G rating - 318 ratings. \n",
    "that means most of the movies and TV shows on Disney+ platform are open for all ages.\n",
    "They can be seen anyone.\n",
    "\n",
    "It is followed by TV-PG  rating, then G rating and PG rating.\n",
    "\n",
    "Minimum ratings got by TV-Y7-FV.\n"
   ]
  },
  {
   "cell_type": "code",
   "execution_count": 30,
   "id": "024919d4",
   "metadata": {},
   "outputs": [
    {
     "data": {
      "text/plain": [
       "<AxesSubplot:xlabel='rating', ylabel='Count'>"
      ]
     },
     "execution_count": 30,
     "metadata": {},
     "output_type": "execute_result"
    },
    {
     "data": {
      "image/png": "[encoded data removed]",
      "text/plain": [
       "<Figure size 432x288 with 1 Axes>"
      ]
     },
     "metadata": {
      "needs_background": "light"
     },
     "output_type": "display_data"
    }
   ],
   "source": [
    "sns.histplot(data=df, x=\"rating\", hue=\"type\", multiple=\"dodge\")"
   ]
  },
  {
   "cell_type": "markdown",
   "id": "c64b45f9",
   "metadata": {},
   "source": [
    "The conclusion is that most of the movies and TV shows are safe to watch for all ages. and some shows need parental guidance.\n",
    "\n",
    "The content that has most fanatcy violence is very less on Disney+.\n"
   ]
  },
  {
   "cell_type": "markdown",
   "id": "9aa3ad72",
   "metadata": {},
   "source": [
    "# How many movies got TV-14 rating in United States?\n"
   ]
  },
  {
   "cell_type": "code",
   "execution_count": 31,
   "id": "eef17d1b",
   "metadata": {},
   "outputs": [
    {
     "data": {
      "text/html": [
       "<div>\n",
       "<style scoped>\n",
       "    .dataframe tbody tr th:only-of-type {\n",
       "        vertical-align: middle;\n",
       "    }\n",
       "\n",
       "    .dataframe tbody tr th {\n",
       "        vertical-align: top;\n",
       "    }\n",
       "\n",
       "    .dataframe thead th {\n",
       "        text-align: right;\n",
       "    }\n",
       "</style>\n",
       "<table border=\"1\" class=\"dataframe\">\n",
       "  <thead>\n",
       "    <tr style=\"text-align: right;\">\n",
       "      <th></th>\n",
       "      <th>show_id</th>\n",
       "      <th>type</th>\n",
       "      <th>title</th>\n",
       "      <th>country</th>\n",
       "      <th>release_year</th>\n",
       "      <th>rating</th>\n",
       "      <th>duration</th>\n",
       "      <th>listed_in</th>\n",
       "      <th>description</th>\n",
       "    </tr>\n",
       "  </thead>\n",
       "  <tbody>\n",
       "    <tr>\n",
       "      <th>6</th>\n",
       "      <td>s7</td>\n",
       "      <td>TV Show</td>\n",
       "      <td>Hawkeye</td>\n",
       "      <td>United States</td>\n",
       "      <td>2021</td>\n",
       "      <td>TV-14</td>\n",
       "      <td>1 Season</td>\n",
       "      <td>Action-Adventure, Superhero</td>\n",
       "      <td>Clint Barton/Hawkeye must team up with skilled...</td>\n",
       "    </tr>\n",
       "    <tr>\n",
       "      <th>7</th>\n",
       "      <td>s8</td>\n",
       "      <td>TV Show</td>\n",
       "      <td>Port Protection Alaska</td>\n",
       "      <td>United States</td>\n",
       "      <td>2015</td>\n",
       "      <td>TV-14</td>\n",
       "      <td>2 Seasons</td>\n",
       "      <td>Docuseries, Reality, Survival</td>\n",
       "      <td>Residents of Port Protection must combat volat...</td>\n",
       "    </tr>\n",
       "    <tr>\n",
       "      <th>25</th>\n",
       "      <td>s26</td>\n",
       "      <td>Movie</td>\n",
       "      <td>Limitless with Chris Hemsworth</td>\n",
       "      <td>United States</td>\n",
       "      <td>2021</td>\n",
       "      <td>TV-14</td>\n",
       "      <td>2 min</td>\n",
       "      <td>Lifestyle</td>\n",
       "      <td>\"Limitless with Chris Hemsworth\" is coming to ...</td>\n",
       "    </tr>\n",
       "    <tr>\n",
       "      <th>53</th>\n",
       "      <td>s54</td>\n",
       "      <td>TV Show</td>\n",
       "      <td>Storm Rising</td>\n",
       "      <td>United States</td>\n",
       "      <td>2021</td>\n",
       "      <td>TV-14</td>\n",
       "      <td>1 Season</td>\n",
       "      <td>Action-Adventure, Animals &amp; Nature, Docuseries</td>\n",
       "      <td>Storm chasers Reed Timmer and Mike Theiss trac...</td>\n",
       "    </tr>\n",
       "    <tr>\n",
       "      <th>64</th>\n",
       "      <td>s65</td>\n",
       "      <td>TV Show</td>\n",
       "      <td>Secrets Of The Zoo: Down Under</td>\n",
       "      <td>United States</td>\n",
       "      <td>2020</td>\n",
       "      <td>TV-14</td>\n",
       "      <td>2 Seasons</td>\n",
       "      <td>Animals &amp; Nature, Docuseries, Family</td>\n",
       "      <td>This series is a behind-the-scenes look at one...</td>\n",
       "    </tr>\n",
       "    <tr>\n",
       "      <th>...</th>\n",
       "      <td>...</td>\n",
       "      <td>...</td>\n",
       "      <td>...</td>\n",
       "      <td>...</td>\n",
       "      <td>...</td>\n",
       "      <td>...</td>\n",
       "      <td>...</td>\n",
       "      <td>...</td>\n",
       "      <td>...</td>\n",
       "    </tr>\n",
       "    <tr>\n",
       "      <th>1054</th>\n",
       "      <td>s1055</td>\n",
       "      <td>TV Show</td>\n",
       "      <td>Marvel's Agent Carter</td>\n",
       "      <td>United States</td>\n",
       "      <td>2014</td>\n",
       "      <td>TV-14</td>\n",
       "      <td>2 Seasons</td>\n",
       "      <td>Action-Adventure, Science Fiction, Spy/Espionage</td>\n",
       "      <td>Working for SSR, Peggy would rather be in the ...</td>\n",
       "    </tr>\n",
       "    <tr>\n",
       "      <th>1061</th>\n",
       "      <td>s1062</td>\n",
       "      <td>TV Show</td>\n",
       "      <td>Marvel's Inhumans</td>\n",
       "      <td>United States</td>\n",
       "      <td>2017</td>\n",
       "      <td>TV-14</td>\n",
       "      <td>1 Season</td>\n",
       "      <td>Action-Adventure, Science Fiction, Superhero</td>\n",
       "      <td>The never-before-told adventure of the Royal F...</td>\n",
       "    </tr>\n",
       "    <tr>\n",
       "      <th>1084</th>\n",
       "      <td>s1085</td>\n",
       "      <td>Movie</td>\n",
       "      <td>Miracle at Midnight</td>\n",
       "      <td>United States</td>\n",
       "      <td>1998</td>\n",
       "      <td>TV-14</td>\n",
       "      <td>89 min</td>\n",
       "      <td>Drama, Historical</td>\n",
       "      <td>A family risks their lives to help their neigh...</td>\n",
       "    </tr>\n",
       "    <tr>\n",
       "      <th>1114</th>\n",
       "      <td>s1115</td>\n",
       "      <td>TV Show</td>\n",
       "      <td>Origins: The Journey of Humankind</td>\n",
       "      <td>United States</td>\n",
       "      <td>2016</td>\n",
       "      <td>TV-14</td>\n",
       "      <td>1 Season</td>\n",
       "      <td>Docuseries, Historical</td>\n",
       "      <td>Hosted by Jason Silva, this eight-part series ...</td>\n",
       "    </tr>\n",
       "    <tr>\n",
       "      <th>1236</th>\n",
       "      <td>s1237</td>\n",
       "      <td>Movie</td>\n",
       "      <td>Teen Spirit</td>\n",
       "      <td>United States</td>\n",
       "      <td>2011</td>\n",
       "      <td>TV-14</td>\n",
       "      <td>82 min</td>\n",
       "      <td>Buddy, Comedy, Coming of Age</td>\n",
       "      <td>To save her soul, Amber must pull off a high-s...</td>\n",
       "    </tr>\n",
       "  </tbody>\n",
       "</table>\n",
       "<p>76 rows × 9 columns</p>\n",
       "</div>"
      ],
      "text/plain": [
       "     show_id     type                              title        country  \\\n",
       "6         s7  TV Show                            Hawkeye  United States   \n",
       "7         s8  TV Show             Port Protection Alaska  United States   \n",
       "25       s26    Movie     Limitless with Chris Hemsworth  United States   \n",
       "53       s54  TV Show                       Storm Rising  United States   \n",
       "64       s65  TV Show     Secrets Of The Zoo: Down Under  United States   \n",
       "...      ...      ...                                ...            ...   \n",
       "1054   s1055  TV Show              Marvel's Agent Carter  United States   \n",
       "1061   s1062  TV Show                  Marvel's Inhumans  United States   \n",
       "1084   s1085    Movie                Miracle at Midnight  United States   \n",
       "1114   s1115  TV Show  Origins: The Journey of Humankind  United States   \n",
       "1236   s1237    Movie                        Teen Spirit  United States   \n",
       "\n",
       "      release_year rating   duration  \\\n",
       "6             2021  TV-14   1 Season   \n",
       "7             2015  TV-14  2 Seasons   \n",
       "25            2021  TV-14      2 min   \n",
       "53            2021  TV-14   1 Season   \n",
       "64            2020  TV-14  2 Seasons   \n",
       "...            ...    ...        ...   \n",
       "1054          2014  TV-14  2 Seasons   \n",
       "1061          2017  TV-14   1 Season   \n",
       "1084          1998  TV-14     89 min   \n",
       "1114          2016  TV-14   1 Season   \n",
       "1236          2011  TV-14     82 min   \n",
       "\n",
       "                                             listed_in  \\\n",
       "6                          Action-Adventure, Superhero   \n",
       "7                        Docuseries, Reality, Survival   \n",
       "25                                           Lifestyle   \n",
       "53      Action-Adventure, Animals & Nature, Docuseries   \n",
       "64                Animals & Nature, Docuseries, Family   \n",
       "...                                                ...   \n",
       "1054  Action-Adventure, Science Fiction, Spy/Espionage   \n",
       "1061      Action-Adventure, Science Fiction, Superhero   \n",
       "1084                                 Drama, Historical   \n",
       "1114                            Docuseries, Historical   \n",
       "1236                      Buddy, Comedy, Coming of Age   \n",
       "\n",
       "                                            description  \n",
       "6     Clint Barton/Hawkeye must team up with skilled...  \n",
       "7     Residents of Port Protection must combat volat...  \n",
       "25    \"Limitless with Chris Hemsworth\" is coming to ...  \n",
       "53    Storm chasers Reed Timmer and Mike Theiss trac...  \n",
       "64    This series is a behind-the-scenes look at one...  \n",
       "...                                                 ...  \n",
       "1054  Working for SSR, Peggy would rather be in the ...  \n",
       "1061  The never-before-told adventure of the Royal F...  \n",
       "1084  A family risks their lives to help their neigh...  \n",
       "1114  Hosted by Jason Silva, this eight-part series ...  \n",
       "1236  To save her soul, Amber must pull off a high-s...  \n",
       "\n",
       "[76 rows x 9 columns]"
      ]
     },
     "execution_count": 31,
     "metadata": {},
     "output_type": "execute_result"
    }
   ],
   "source": [
    "df[(df['rating']== 'TV-14')& (df['country'].str.contains('United States'))]"
   ]
  },
  {
   "cell_type": "markdown",
   "id": "53188e6c",
   "metadata": {},
   "source": [
    "So, total 76 movies and Tv shows got TV-14 rating"
   ]
  },
  {
   "cell_type": "markdown",
   "id": "e1037d48",
   "metadata": {},
   "source": [
    "Likewise, we can also check spacific rating in specific country in specific year."
   ]
  },
  {
   "cell_type": "markdown",
   "id": "45126b84",
   "metadata": {},
   "source": [
    "# Duration Analysis"
   ]
  },
  {
   "cell_type": "code",
   "execution_count": 32,
   "id": "32c4d0e6",
   "metadata": {},
   "outputs": [
    {
     "data": {
      "text/html": [
       "<div>\n",
       "<style scoped>\n",
       "    .dataframe tbody tr th:only-of-type {\n",
       "        vertical-align: middle;\n",
       "    }\n",
       "\n",
       "    .dataframe tbody tr th {\n",
       "        vertical-align: top;\n",
       "    }\n",
       "\n",
       "    .dataframe thead th {\n",
       "        text-align: right;\n",
       "    }\n",
       "</style>\n",
       "<table border=\"1\" class=\"dataframe\">\n",
       "  <thead>\n",
       "    <tr style=\"text-align: right;\">\n",
       "      <th></th>\n",
       "      <th>show_id</th>\n",
       "      <th>type</th>\n",
       "      <th>title</th>\n",
       "      <th>country</th>\n",
       "      <th>release_year</th>\n",
       "      <th>rating</th>\n",
       "      <th>duration</th>\n",
       "      <th>listed_in</th>\n",
       "      <th>description</th>\n",
       "    </tr>\n",
       "  </thead>\n",
       "  <tbody>\n",
       "    <tr>\n",
       "      <th>0</th>\n",
       "      <td>s1</td>\n",
       "      <td>Movie</td>\n",
       "      <td>Duck the Halls: A Mickey Mouse Christmas Special</td>\n",
       "      <td>United States</td>\n",
       "      <td>2016</td>\n",
       "      <td>TV-G</td>\n",
       "      <td>23 min</td>\n",
       "      <td>Animation, Family</td>\n",
       "      <td>Join Mickey and the gang as they duck the halls!</td>\n",
       "    </tr>\n",
       "    <tr>\n",
       "      <th>1</th>\n",
       "      <td>s2</td>\n",
       "      <td>Movie</td>\n",
       "      <td>Ernest Saves Christmas</td>\n",
       "      <td>United States</td>\n",
       "      <td>1988</td>\n",
       "      <td>PG</td>\n",
       "      <td>91 min</td>\n",
       "      <td>Comedy</td>\n",
       "      <td>Santa Claus passes his magic bag to a new St. ...</td>\n",
       "    </tr>\n",
       "  </tbody>\n",
       "</table>\n",
       "</div>"
      ],
      "text/plain": [
       "  show_id   type                                             title  \\\n",
       "0      s1  Movie  Duck the Halls: A Mickey Mouse Christmas Special   \n",
       "1      s2  Movie                            Ernest Saves Christmas   \n",
       "\n",
       "         country  release_year rating duration          listed_in  \\\n",
       "0  United States          2016   TV-G   23 min  Animation, Family   \n",
       "1  United States          1988     PG   91 min             Comedy   \n",
       "\n",
       "                                         description  \n",
       "0   Join Mickey and the gang as they duck the halls!  \n",
       "1  Santa Claus passes his magic bag to a new St. ...  "
      ]
     },
     "execution_count": 32,
     "metadata": {},
     "output_type": "execute_result"
    }
   ],
   "source": [
    "df.head(2)"
   ]
  },
  {
   "cell_type": "code",
   "execution_count": 33,
   "id": "b3277f28",
   "metadata": {},
   "outputs": [
    {
     "data": {
      "text/html": [
       "<div>\n",
       "<style scoped>\n",
       "    .dataframe tbody tr th:only-of-type {\n",
       "        vertical-align: middle;\n",
       "    }\n",
       "\n",
       "    .dataframe tbody tr th {\n",
       "        vertical-align: top;\n",
       "    }\n",
       "\n",
       "    .dataframe thead th {\n",
       "        text-align: right;\n",
       "    }\n",
       "</style>\n",
       "<table border=\"1\" class=\"dataframe\">\n",
       "  <thead>\n",
       "    <tr style=\"text-align: right;\">\n",
       "      <th></th>\n",
       "      <th>show_id</th>\n",
       "      <th>type</th>\n",
       "      <th>title</th>\n",
       "      <th>country</th>\n",
       "      <th>release_year</th>\n",
       "      <th>rating</th>\n",
       "      <th>duration</th>\n",
       "      <th>listed_in</th>\n",
       "      <th>description</th>\n",
       "    </tr>\n",
       "  </thead>\n",
       "  <tbody>\n",
       "    <tr>\n",
       "      <th>4</th>\n",
       "      <td>s5</td>\n",
       "      <td>TV Show</td>\n",
       "      <td>The Beatles: Get Back</td>\n",
       "      <td>United States</td>\n",
       "      <td>2021</td>\n",
       "      <td>NaN</td>\n",
       "      <td>1 Season</td>\n",
       "      <td>Docuseries, Historical, Music</td>\n",
       "      <td>A three-part documentary from Peter Jackson ca...</td>\n",
       "    </tr>\n",
       "    <tr>\n",
       "      <th>6</th>\n",
       "      <td>s7</td>\n",
       "      <td>TV Show</td>\n",
       "      <td>Hawkeye</td>\n",
       "      <td>United States</td>\n",
       "      <td>2021</td>\n",
       "      <td>TV-14</td>\n",
       "      <td>1 Season</td>\n",
       "      <td>Action-Adventure, Superhero</td>\n",
       "      <td>Clint Barton/Hawkeye must team up with skilled...</td>\n",
       "    </tr>\n",
       "    <tr>\n",
       "      <th>7</th>\n",
       "      <td>s8</td>\n",
       "      <td>TV Show</td>\n",
       "      <td>Port Protection Alaska</td>\n",
       "      <td>United States</td>\n",
       "      <td>2015</td>\n",
       "      <td>TV-14</td>\n",
       "      <td>2 Seasons</td>\n",
       "      <td>Docuseries, Reality, Survival</td>\n",
       "      <td>Residents of Port Protection must combat volat...</td>\n",
       "    </tr>\n",
       "    <tr>\n",
       "      <th>8</th>\n",
       "      <td>s9</td>\n",
       "      <td>TV Show</td>\n",
       "      <td>Secrets of the Zoo: Tampa</td>\n",
       "      <td>United States</td>\n",
       "      <td>2019</td>\n",
       "      <td>TV-PG</td>\n",
       "      <td>2 Seasons</td>\n",
       "      <td>Animals &amp; Nature, Docuseries, Family</td>\n",
       "      <td>A day in the life at ZooTampa is anything but ...</td>\n",
       "    </tr>\n",
       "    <tr>\n",
       "      <th>13</th>\n",
       "      <td>s14</td>\n",
       "      <td>TV Show</td>\n",
       "      <td>Dr. Oakley, Yukon Vet</td>\n",
       "      <td>United States</td>\n",
       "      <td>2013</td>\n",
       "      <td>TV-PG</td>\n",
       "      <td>10 Seasons</td>\n",
       "      <td>Action-Adventure, Animals &amp; Nature, Docuseries</td>\n",
       "      <td>Meet Dr. Michelle Oakley, vet to pretty much e...</td>\n",
       "    </tr>\n",
       "    <tr>\n",
       "      <th>...</th>\n",
       "      <td>...</td>\n",
       "      <td>...</td>\n",
       "      <td>...</td>\n",
       "      <td>...</td>\n",
       "      <td>...</td>\n",
       "      <td>...</td>\n",
       "      <td>...</td>\n",
       "      <td>...</td>\n",
       "      <td>...</td>\n",
       "    </tr>\n",
       "    <tr>\n",
       "      <th>1417</th>\n",
       "      <td>s1418</td>\n",
       "      <td>TV Show</td>\n",
       "      <td>X-Men: Evolution</td>\n",
       "      <td>United States</td>\n",
       "      <td>2000</td>\n",
       "      <td>TV-Y7</td>\n",
       "      <td>4 Seasons</td>\n",
       "      <td>Action-Adventure, Animation, Kids</td>\n",
       "      <td>X-Men: Evolution features the team as teenager...</td>\n",
       "    </tr>\n",
       "    <tr>\n",
       "      <th>1434</th>\n",
       "      <td>s1435</td>\n",
       "      <td>TV Show</td>\n",
       "      <td>Smart Guy</td>\n",
       "      <td>United States</td>\n",
       "      <td>1996</td>\n",
       "      <td>TV-G</td>\n",
       "      <td>3 Seasons</td>\n",
       "      <td>Comedy, Coming of Age, Kids</td>\n",
       "      <td>A genius tries to fit in as a high school soph...</td>\n",
       "    </tr>\n",
       "    <tr>\n",
       "      <th>1439</th>\n",
       "      <td>s1440</td>\n",
       "      <td>TV Show</td>\n",
       "      <td>Disney Kirby Buckets</td>\n",
       "      <td>United States</td>\n",
       "      <td>2014</td>\n",
       "      <td>TV-Y7</td>\n",
       "      <td>3 Seasons</td>\n",
       "      <td>Action-Adventure, Comedy, Coming of Age</td>\n",
       "      <td>Welcome to Kirby's world! It's rude and sketchy.</td>\n",
       "    </tr>\n",
       "    <tr>\n",
       "      <th>1440</th>\n",
       "      <td>s1441</td>\n",
       "      <td>TV Show</td>\n",
       "      <td>Disney Mech-X4</td>\n",
       "      <td>Canada</td>\n",
       "      <td>2016</td>\n",
       "      <td>TV-Y7</td>\n",
       "      <td>2 Seasons</td>\n",
       "      <td>Action-Adventure, Comedy, Science Fiction</td>\n",
       "      <td>Ryan discovers his ability to control a giant ...</td>\n",
       "    </tr>\n",
       "    <tr>\n",
       "      <th>1441</th>\n",
       "      <td>s1442</td>\n",
       "      <td>TV Show</td>\n",
       "      <td>Imagination Movers</td>\n",
       "      <td>United States</td>\n",
       "      <td>2008</td>\n",
       "      <td>TV-Y</td>\n",
       "      <td>3 Seasons</td>\n",
       "      <td>Kids, Music</td>\n",
       "      <td>Rock out with the Imagination Movers, Disney J...</td>\n",
       "    </tr>\n",
       "  </tbody>\n",
       "</table>\n",
       "<p>398 rows × 9 columns</p>\n",
       "</div>"
      ],
      "text/plain": [
       "     show_id     type                      title        country  release_year  \\\n",
       "4         s5  TV Show      The Beatles: Get Back  United States          2021   \n",
       "6         s7  TV Show                    Hawkeye  United States          2021   \n",
       "7         s8  TV Show     Port Protection Alaska  United States          2015   \n",
       "8         s9  TV Show  Secrets of the Zoo: Tampa  United States          2019   \n",
       "13       s14  TV Show      Dr. Oakley, Yukon Vet  United States          2013   \n",
       "...      ...      ...                        ...            ...           ...   \n",
       "1417   s1418  TV Show           X-Men: Evolution  United States          2000   \n",
       "1434   s1435  TV Show                  Smart Guy  United States          1996   \n",
       "1439   s1440  TV Show       Disney Kirby Buckets  United States          2014   \n",
       "1440   s1441  TV Show             Disney Mech-X4         Canada          2016   \n",
       "1441   s1442  TV Show         Imagination Movers  United States          2008   \n",
       "\n",
       "     rating    duration                                       listed_in  \\\n",
       "4       NaN    1 Season                   Docuseries, Historical, Music   \n",
       "6     TV-14    1 Season                     Action-Adventure, Superhero   \n",
       "7     TV-14   2 Seasons                   Docuseries, Reality, Survival   \n",
       "8     TV-PG   2 Seasons            Animals & Nature, Docuseries, Family   \n",
       "13    TV-PG  10 Seasons  Action-Adventure, Animals & Nature, Docuseries   \n",
       "...     ...         ...                                             ...   \n",
       "1417  TV-Y7   4 Seasons               Action-Adventure, Animation, Kids   \n",
       "1434   TV-G   3 Seasons                     Comedy, Coming of Age, Kids   \n",
       "1439  TV-Y7   3 Seasons         Action-Adventure, Comedy, Coming of Age   \n",
       "1440  TV-Y7   2 Seasons       Action-Adventure, Comedy, Science Fiction   \n",
       "1441   TV-Y   3 Seasons                                     Kids, Music   \n",
       "\n",
       "                                            description  \n",
       "4     A three-part documentary from Peter Jackson ca...  \n",
       "6     Clint Barton/Hawkeye must team up with skilled...  \n",
       "7     Residents of Port Protection must combat volat...  \n",
       "8     A day in the life at ZooTampa is anything but ...  \n",
       "13    Meet Dr. Michelle Oakley, vet to pretty much e...  \n",
       "...                                                 ...  \n",
       "1417  X-Men: Evolution features the team as teenager...  \n",
       "1434  A genius tries to fit in as a high school soph...  \n",
       "1439   Welcome to Kirby's world! It's rude and sketchy.  \n",
       "1440  Ryan discovers his ability to control a giant ...  \n",
       "1441  Rock out with the Imagination Movers, Disney J...  \n",
       "\n",
       "[398 rows x 9 columns]"
      ]
     },
     "execution_count": 33,
     "metadata": {},
     "output_type": "execute_result"
    }
   ],
   "source": [
    "df_tvshow= df[df['duration'].str.contains('Season')]\n",
    "df_tvshow\n",
    " "
   ]
  },
  {
   "cell_type": "code",
   "execution_count": 34,
   "id": "cf91eb6b",
   "metadata": {},
   "outputs": [
    {
     "data": {
      "text/html": [
       "<div>\n",
       "<style scoped>\n",
       "    .dataframe tbody tr th:only-of-type {\n",
       "        vertical-align: middle;\n",
       "    }\n",
       "\n",
       "    .dataframe tbody tr th {\n",
       "        vertical-align: top;\n",
       "    }\n",
       "\n",
       "    .dataframe thead th {\n",
       "        text-align: right;\n",
       "    }\n",
       "</style>\n",
       "<table border=\"1\" class=\"dataframe\">\n",
       "  <thead>\n",
       "    <tr style=\"text-align: right;\">\n",
       "      <th></th>\n",
       "      <th>show_id</th>\n",
       "      <th>type</th>\n",
       "      <th>title</th>\n",
       "      <th>country</th>\n",
       "      <th>release_year</th>\n",
       "      <th>rating</th>\n",
       "      <th>duration</th>\n",
       "      <th>listed_in</th>\n",
       "      <th>description</th>\n",
       "    </tr>\n",
       "  </thead>\n",
       "  <tbody>\n",
       "    <tr>\n",
       "      <th>0</th>\n",
       "      <td>s1</td>\n",
       "      <td>Movie</td>\n",
       "      <td>Duck the Halls: A Mickey Mouse Christmas Special</td>\n",
       "      <td>United States</td>\n",
       "      <td>2016</td>\n",
       "      <td>TV-G</td>\n",
       "      <td>23 min</td>\n",
       "      <td>Animation, Family</td>\n",
       "      <td>Join Mickey and the gang as they duck the halls!</td>\n",
       "    </tr>\n",
       "    <tr>\n",
       "      <th>1</th>\n",
       "      <td>s2</td>\n",
       "      <td>Movie</td>\n",
       "      <td>Ernest Saves Christmas</td>\n",
       "      <td>United States</td>\n",
       "      <td>1988</td>\n",
       "      <td>PG</td>\n",
       "      <td>91 min</td>\n",
       "      <td>Comedy</td>\n",
       "      <td>Santa Claus passes his magic bag to a new St. ...</td>\n",
       "    </tr>\n",
       "    <tr>\n",
       "      <th>2</th>\n",
       "      <td>s3</td>\n",
       "      <td>Movie</td>\n",
       "      <td>Ice Age: A Mammoth Christmas</td>\n",
       "      <td>United States</td>\n",
       "      <td>2011</td>\n",
       "      <td>TV-G</td>\n",
       "      <td>23 min</td>\n",
       "      <td>Animation, Comedy, Family</td>\n",
       "      <td>Sid the Sloth is on Santa's naughty list.</td>\n",
       "    </tr>\n",
       "    <tr>\n",
       "      <th>3</th>\n",
       "      <td>s4</td>\n",
       "      <td>Movie</td>\n",
       "      <td>The Queen Family Singalong</td>\n",
       "      <td>United States</td>\n",
       "      <td>2021</td>\n",
       "      <td>TV-PG</td>\n",
       "      <td>41 min</td>\n",
       "      <td>Musical</td>\n",
       "      <td>This is real life, not just fantasy!</td>\n",
       "    </tr>\n",
       "    <tr>\n",
       "      <th>5</th>\n",
       "      <td>s6</td>\n",
       "      <td>Movie</td>\n",
       "      <td>Becoming Cousteau</td>\n",
       "      <td>United States</td>\n",
       "      <td>2021</td>\n",
       "      <td>PG-13</td>\n",
       "      <td>94 min</td>\n",
       "      <td>Biographical, Documentary</td>\n",
       "      <td>An inside look at the legendary life of advent...</td>\n",
       "    </tr>\n",
       "    <tr>\n",
       "      <th>...</th>\n",
       "      <td>...</td>\n",
       "      <td>...</td>\n",
       "      <td>...</td>\n",
       "      <td>...</td>\n",
       "      <td>...</td>\n",
       "      <td>...</td>\n",
       "      <td>...</td>\n",
       "      <td>...</td>\n",
       "      <td>...</td>\n",
       "    </tr>\n",
       "    <tr>\n",
       "      <th>1445</th>\n",
       "      <td>s1446</td>\n",
       "      <td>Movie</td>\n",
       "      <td>X-Men Origins: Wolverine</td>\n",
       "      <td>United States, United Kingdom</td>\n",
       "      <td>2009</td>\n",
       "      <td>PG-13</td>\n",
       "      <td>108 min</td>\n",
       "      <td>Action-Adventure, Family, Science Fiction</td>\n",
       "      <td>Wolverine unites with legendary X-Men to fight...</td>\n",
       "    </tr>\n",
       "    <tr>\n",
       "      <th>1446</th>\n",
       "      <td>s1447</td>\n",
       "      <td>Movie</td>\n",
       "      <td>Night at the Museum: Battle of the Smithsonian</td>\n",
       "      <td>United States, Canada</td>\n",
       "      <td>2009</td>\n",
       "      <td>PG</td>\n",
       "      <td>106 min</td>\n",
       "      <td>Action-Adventure, Comedy, Family</td>\n",
       "      <td>Larry Daley returns to rescue some old friends...</td>\n",
       "    </tr>\n",
       "    <tr>\n",
       "      <th>1447</th>\n",
       "      <td>s1448</td>\n",
       "      <td>Movie</td>\n",
       "      <td>Eddie the Eagle</td>\n",
       "      <td>United Kingdom, Germany, United States</td>\n",
       "      <td>2016</td>\n",
       "      <td>PG-13</td>\n",
       "      <td>107 min</td>\n",
       "      <td>Biographical, Comedy, Drama</td>\n",
       "      <td>True story of Eddie Edwards, a British ski-jum...</td>\n",
       "    </tr>\n",
       "    <tr>\n",
       "      <th>1448</th>\n",
       "      <td>s1449</td>\n",
       "      <td>Movie</td>\n",
       "      <td>Bend It Like Beckham</td>\n",
       "      <td>United Kingdom, Germany, United States</td>\n",
       "      <td>2003</td>\n",
       "      <td>PG-13</td>\n",
       "      <td>112 min</td>\n",
       "      <td>Buddy, Comedy, Coming of Age</td>\n",
       "      <td>Despite the wishes of their traditional famili...</td>\n",
       "    </tr>\n",
       "    <tr>\n",
       "      <th>1449</th>\n",
       "      <td>s1450</td>\n",
       "      <td>Movie</td>\n",
       "      <td>Captain Sparky vs. The Flying Saucers</td>\n",
       "      <td>United States</td>\n",
       "      <td>2012</td>\n",
       "      <td>TV-G</td>\n",
       "      <td>2 min</td>\n",
       "      <td>Action-Adventure, Animals &amp; Nature, Animation</td>\n",
       "      <td>View one of Sparky's favorite home movies.</td>\n",
       "    </tr>\n",
       "  </tbody>\n",
       "</table>\n",
       "<p>1052 rows × 9 columns</p>\n",
       "</div>"
      ],
      "text/plain": [
       "     show_id   type                                             title  \\\n",
       "0         s1  Movie  Duck the Halls: A Mickey Mouse Christmas Special   \n",
       "1         s2  Movie                            Ernest Saves Christmas   \n",
       "2         s3  Movie                      Ice Age: A Mammoth Christmas   \n",
       "3         s4  Movie                        The Queen Family Singalong   \n",
       "5         s6  Movie                                 Becoming Cousteau   \n",
       "...      ...    ...                                               ...   \n",
       "1445   s1446  Movie                          X-Men Origins: Wolverine   \n",
       "1446   s1447  Movie    Night at the Museum: Battle of the Smithsonian   \n",
       "1447   s1448  Movie                                   Eddie the Eagle   \n",
       "1448   s1449  Movie                              Bend It Like Beckham   \n",
       "1449   s1450  Movie             Captain Sparky vs. The Flying Saucers   \n",
       "\n",
       "                                     country  release_year rating duration  \\\n",
       "0                              United States          2016   TV-G   23 min   \n",
       "1                              United States          1988     PG   91 min   \n",
       "2                              United States          2011   TV-G   23 min   \n",
       "3                              United States          2021  TV-PG   41 min   \n",
       "5                              United States          2021  PG-13   94 min   \n",
       "...                                      ...           ...    ...      ...   \n",
       "1445           United States, United Kingdom          2009  PG-13  108 min   \n",
       "1446                   United States, Canada          2009     PG  106 min   \n",
       "1447  United Kingdom, Germany, United States          2016  PG-13  107 min   \n",
       "1448  United Kingdom, Germany, United States          2003  PG-13  112 min   \n",
       "1449                           United States          2012   TV-G    2 min   \n",
       "\n",
       "                                          listed_in  \\\n",
       "0                                 Animation, Family   \n",
       "1                                            Comedy   \n",
       "2                         Animation, Comedy, Family   \n",
       "3                                           Musical   \n",
       "5                         Biographical, Documentary   \n",
       "...                                             ...   \n",
       "1445      Action-Adventure, Family, Science Fiction   \n",
       "1446               Action-Adventure, Comedy, Family   \n",
       "1447                    Biographical, Comedy, Drama   \n",
       "1448                   Buddy, Comedy, Coming of Age   \n",
       "1449  Action-Adventure, Animals & Nature, Animation   \n",
       "\n",
       "                                            description  \n",
       "0      Join Mickey and the gang as they duck the halls!  \n",
       "1     Santa Claus passes his magic bag to a new St. ...  \n",
       "2             Sid the Sloth is on Santa's naughty list.  \n",
       "3                  This is real life, not just fantasy!  \n",
       "5     An inside look at the legendary life of advent...  \n",
       "...                                                 ...  \n",
       "1445  Wolverine unites with legendary X-Men to fight...  \n",
       "1446  Larry Daley returns to rescue some old friends...  \n",
       "1447  True story of Eddie Edwards, a British ski-jum...  \n",
       "1448  Despite the wishes of their traditional famili...  \n",
       "1449         View one of Sparky's favorite home movies.  \n",
       "\n",
       "[1052 rows x 9 columns]"
      ]
     },
     "execution_count": 34,
     "metadata": {},
     "output_type": "execute_result"
    }
   ],
   "source": [
    "df_movie=df[df['duration'].str.contains('min')]\n",
    "df_movie"
   ]
  },
  {
   "cell_type": "markdown",
   "id": "f3cf9537",
   "metadata": {},
   "source": [
    "# Which TV show has maximum seasons?"
   ]
  },
  {
   "cell_type": "code",
   "execution_count": 35,
   "id": "7297c1ed",
   "metadata": {},
   "outputs": [
    {
     "data": {
      "text/html": [
       "<div>\n",
       "<style scoped>\n",
       "    .dataframe tbody tr th:only-of-type {\n",
       "        vertical-align: middle;\n",
       "    }\n",
       "\n",
       "    .dataframe tbody tr th {\n",
       "        vertical-align: top;\n",
       "    }\n",
       "\n",
       "    .dataframe thead th {\n",
       "        text-align: right;\n",
       "    }\n",
       "</style>\n",
       "<table border=\"1\" class=\"dataframe\">\n",
       "  <thead>\n",
       "    <tr style=\"text-align: right;\">\n",
       "      <th></th>\n",
       "      <th>show_id</th>\n",
       "      <th>type</th>\n",
       "      <th>title</th>\n",
       "      <th>country</th>\n",
       "      <th>release_year</th>\n",
       "      <th>rating</th>\n",
       "      <th>duration</th>\n",
       "      <th>listed_in</th>\n",
       "      <th>description</th>\n",
       "    </tr>\n",
       "  </thead>\n",
       "  <tbody>\n",
       "    <tr>\n",
       "      <th>553</th>\n",
       "      <td>s554</td>\n",
       "      <td>TV Show</td>\n",
       "      <td>America's Funniest Home Videos</td>\n",
       "      <td>United States</td>\n",
       "      <td>1989</td>\n",
       "      <td>TV-PG</td>\n",
       "      <td>9 Seasons</td>\n",
       "      <td>Comedy, Family, Fantasy</td>\n",
       "      <td>Home videos compete for cash prizes. Program i...</td>\n",
       "    </tr>\n",
       "  </tbody>\n",
       "</table>\n",
       "</div>"
      ],
      "text/plain": [
       "    show_id     type                           title        country  \\\n",
       "553    s554  TV Show  America's Funniest Home Videos  United States   \n",
       "\n",
       "     release_year rating   duration                listed_in  \\\n",
       "553          1989  TV-PG  9 Seasons  Comedy, Family, Fantasy   \n",
       "\n",
       "                                           description  \n",
       "553  Home videos compete for cash prizes. Program i...  "
      ]
     },
     "execution_count": 35,
     "metadata": {},
     "output_type": "execute_result"
    }
   ],
   "source": [
    "df_tvshow.sort_values(by='duration',ascending=False).head(1)"
   ]
  },
  {
   "cell_type": "markdown",
   "id": "7c3a525b",
   "metadata": {},
   "source": [
    "The TV show \"America's Funniest Home Videos\" has max no. of seasons, that is 9."
   ]
  },
  {
   "cell_type": "markdown",
   "id": "b0375a3c",
   "metadata": {},
   "source": [
    "# Which movies has highest time duration?"
   ]
  },
  {
   "cell_type": "code",
   "execution_count": 36,
   "id": "98ed93c6",
   "metadata": {},
   "outputs": [
    {
     "data": {
      "text/html": [
       "<div>\n",
       "<style scoped>\n",
       "    .dataframe tbody tr th:only-of-type {\n",
       "        vertical-align: middle;\n",
       "    }\n",
       "\n",
       "    .dataframe tbody tr th {\n",
       "        vertical-align: top;\n",
       "    }\n",
       "\n",
       "    .dataframe thead th {\n",
       "        text-align: right;\n",
       "    }\n",
       "</style>\n",
       "<table border=\"1\" class=\"dataframe\">\n",
       "  <thead>\n",
       "    <tr style=\"text-align: right;\">\n",
       "      <th></th>\n",
       "      <th>show_id</th>\n",
       "      <th>type</th>\n",
       "      <th>title</th>\n",
       "      <th>country</th>\n",
       "      <th>release_year</th>\n",
       "      <th>rating</th>\n",
       "      <th>duration</th>\n",
       "      <th>listed_in</th>\n",
       "      <th>description</th>\n",
       "    </tr>\n",
       "  </thead>\n",
       "  <tbody>\n",
       "    <tr>\n",
       "      <th>0</th>\n",
       "      <td>s1</td>\n",
       "      <td>Movie</td>\n",
       "      <td>Duck the Halls: A Mickey Mouse Christmas Special</td>\n",
       "      <td>United States</td>\n",
       "      <td>2016</td>\n",
       "      <td>TV-G</td>\n",
       "      <td>23 min</td>\n",
       "      <td>Animation, Family</td>\n",
       "      <td>Join Mickey and the gang as they duck the halls!</td>\n",
       "    </tr>\n",
       "    <tr>\n",
       "      <th>1</th>\n",
       "      <td>s2</td>\n",
       "      <td>Movie</td>\n",
       "      <td>Ernest Saves Christmas</td>\n",
       "      <td>United States</td>\n",
       "      <td>1988</td>\n",
       "      <td>PG</td>\n",
       "      <td>91 min</td>\n",
       "      <td>Comedy</td>\n",
       "      <td>Santa Claus passes his magic bag to a new St. ...</td>\n",
       "    </tr>\n",
       "  </tbody>\n",
       "</table>\n",
       "</div>"
      ],
      "text/plain": [
       "  show_id   type                                             title  \\\n",
       "0      s1  Movie  Duck the Halls: A Mickey Mouse Christmas Special   \n",
       "1      s2  Movie                            Ernest Saves Christmas   \n",
       "\n",
       "         country  release_year rating duration          listed_in  \\\n",
       "0  United States          2016   TV-G   23 min  Animation, Family   \n",
       "1  United States          1988     PG   91 min             Comedy   \n",
       "\n",
       "                                         description  \n",
       "0   Join Mickey and the gang as they duck the halls!  \n",
       "1  Santa Claus passes his magic bag to a new St. ...  "
      ]
     },
     "execution_count": 36,
     "metadata": {},
     "output_type": "execute_result"
    }
   ],
   "source": [
    "df_movie.head(2)"
   ]
  },
  {
   "cell_type": "code",
   "execution_count": 37,
   "id": "a12c3d70",
   "metadata": {},
   "outputs": [],
   "source": [
    "df_movie[['duration','min']]= df_movie['duration'].str.split(' ', expand=True)"
   ]
  },
  {
   "cell_type": "code",
   "execution_count": 38,
   "id": "32bd8db6",
   "metadata": {},
   "outputs": [
    {
     "data": {
      "text/html": [
       "<div>\n",
       "<style scoped>\n",
       "    .dataframe tbody tr th:only-of-type {\n",
       "        vertical-align: middle;\n",
       "    }\n",
       "\n",
       "    .dataframe tbody tr th {\n",
       "        vertical-align: top;\n",
       "    }\n",
       "\n",
       "    .dataframe thead th {\n",
       "        text-align: right;\n",
       "    }\n",
       "</style>\n",
       "<table border=\"1\" class=\"dataframe\">\n",
       "  <thead>\n",
       "    <tr style=\"text-align: right;\">\n",
       "      <th></th>\n",
       "      <th>show_id</th>\n",
       "      <th>type</th>\n",
       "      <th>title</th>\n",
       "      <th>country</th>\n",
       "      <th>release_year</th>\n",
       "      <th>rating</th>\n",
       "      <th>duration</th>\n",
       "      <th>listed_in</th>\n",
       "      <th>description</th>\n",
       "      <th>min</th>\n",
       "    </tr>\n",
       "  </thead>\n",
       "  <tbody>\n",
       "    <tr>\n",
       "      <th>0</th>\n",
       "      <td>s1</td>\n",
       "      <td>Movie</td>\n",
       "      <td>Duck the Halls: A Mickey Mouse Christmas Special</td>\n",
       "      <td>United States</td>\n",
       "      <td>2016</td>\n",
       "      <td>TV-G</td>\n",
       "      <td>23</td>\n",
       "      <td>Animation, Family</td>\n",
       "      <td>Join Mickey and the gang as they duck the halls!</td>\n",
       "      <td>min</td>\n",
       "    </tr>\n",
       "    <tr>\n",
       "      <th>1</th>\n",
       "      <td>s2</td>\n",
       "      <td>Movie</td>\n",
       "      <td>Ernest Saves Christmas</td>\n",
       "      <td>United States</td>\n",
       "      <td>1988</td>\n",
       "      <td>PG</td>\n",
       "      <td>91</td>\n",
       "      <td>Comedy</td>\n",
       "      <td>Santa Claus passes his magic bag to a new St. ...</td>\n",
       "      <td>min</td>\n",
       "    </tr>\n",
       "  </tbody>\n",
       "</table>\n",
       "</div>"
      ],
      "text/plain": [
       "  show_id   type                                             title  \\\n",
       "0      s1  Movie  Duck the Halls: A Mickey Mouse Christmas Special   \n",
       "1      s2  Movie                            Ernest Saves Christmas   \n",
       "\n",
       "         country  release_year rating duration          listed_in  \\\n",
       "0  United States          2016   TV-G       23  Animation, Family   \n",
       "1  United States          1988     PG       91             Comedy   \n",
       "\n",
       "                                         description  min  \n",
       "0   Join Mickey and the gang as they duck the halls!  min  \n",
       "1  Santa Claus passes his magic bag to a new St. ...  min  "
      ]
     },
     "execution_count": 38,
     "metadata": {},
     "output_type": "execute_result"
    }
   ],
   "source": [
    "df_movie.head(2)"
   ]
  },
  {
   "cell_type": "code",
   "execution_count": 39,
   "id": "253b8b10",
   "metadata": {},
   "outputs": [
    {
     "name": "stdout",
     "output_type": "stream",
     "text": [
      "<class 'pandas.core.frame.DataFrame'>\n",
      "Int64Index: 1052 entries, 0 to 1449\n",
      "Data columns (total 10 columns):\n",
      " #   Column        Non-Null Count  Dtype \n",
      "---  ------        --------------  ----- \n",
      " 0   show_id       1052 non-null   object\n",
      " 1   type          1052 non-null   object\n",
      " 2   title         1052 non-null   object\n",
      " 3   country       1052 non-null   object\n",
      " 4   release_year  1052 non-null   int64 \n",
      " 5   rating        1051 non-null   object\n",
      " 6   duration      1052 non-null   object\n",
      " 7   listed_in     1052 non-null   object\n",
      " 8   description   1052 non-null   object\n",
      " 9   min           1052 non-null   object\n",
      "dtypes: int64(1), object(9)\n",
      "memory usage: 90.4+ KB\n"
     ]
    }
   ],
   "source": [
    "df_movie.info()"
   ]
  },
  {
   "cell_type": "markdown",
   "id": "a60be7ee",
   "metadata": {},
   "source": [
    "Duration column has object data type. but we want int datatype. So covert it into int datatype."
   ]
  },
  {
   "cell_type": "code",
   "execution_count": 40,
   "id": "4063495a",
   "metadata": {},
   "outputs": [],
   "source": [
    "df_movie['duration']= df_movie['duration'].astype('int64')"
   ]
  },
  {
   "cell_type": "code",
   "execution_count": 41,
   "id": "e4de6cd6",
   "metadata": {},
   "outputs": [
    {
     "name": "stdout",
     "output_type": "stream",
     "text": [
      "<class 'pandas.core.frame.DataFrame'>\n",
      "Int64Index: 1052 entries, 0 to 1449\n",
      "Data columns (total 10 columns):\n",
      " #   Column        Non-Null Count  Dtype \n",
      "---  ------        --------------  ----- \n",
      " 0   show_id       1052 non-null   object\n",
      " 1   type          1052 non-null   object\n",
      " 2   title         1052 non-null   object\n",
      " 3   country       1052 non-null   object\n",
      " 4   release_year  1052 non-null   int64 \n",
      " 5   rating        1051 non-null   object\n",
      " 6   duration      1052 non-null   int64 \n",
      " 7   listed_in     1052 non-null   object\n",
      " 8   description   1052 non-null   object\n",
      " 9   min           1052 non-null   object\n",
      "dtypes: int64(2), object(8)\n",
      "memory usage: 90.4+ KB\n"
     ]
    }
   ],
   "source": [
    "df_movie.info()"
   ]
  },
  {
   "cell_type": "code",
   "execution_count": 42,
   "id": "0dfdb5cd",
   "metadata": {},
   "outputs": [
    {
     "data": {
      "text/plain": [
       "183"
      ]
     },
     "execution_count": 42,
     "metadata": {},
     "output_type": "execute_result"
    }
   ],
   "source": [
    "df_movie['duration'].max()"
   ]
  },
  {
   "cell_type": "markdown",
   "id": "d9f912ff",
   "metadata": {},
   "source": [
    "Highest time duration is 183 min."
   ]
  },
  {
   "cell_type": "code",
   "execution_count": 43,
   "id": "1e3de990",
   "metadata": {},
   "outputs": [
    {
     "data": {
      "text/html": [
       "<div>\n",
       "<style scoped>\n",
       "    .dataframe tbody tr th:only-of-type {\n",
       "        vertical-align: middle;\n",
       "    }\n",
       "\n",
       "    .dataframe tbody tr th {\n",
       "        vertical-align: top;\n",
       "    }\n",
       "\n",
       "    .dataframe thead th {\n",
       "        text-align: right;\n",
       "    }\n",
       "</style>\n",
       "<table border=\"1\" class=\"dataframe\">\n",
       "  <thead>\n",
       "    <tr style=\"text-align: right;\">\n",
       "      <th></th>\n",
       "      <th>show_id</th>\n",
       "      <th>type</th>\n",
       "      <th>title</th>\n",
       "      <th>country</th>\n",
       "      <th>release_year</th>\n",
       "      <th>rating</th>\n",
       "      <th>duration</th>\n",
       "      <th>listed_in</th>\n",
       "      <th>description</th>\n",
       "      <th>min</th>\n",
       "    </tr>\n",
       "  </thead>\n",
       "  <tbody>\n",
       "    <tr>\n",
       "      <th>1039</th>\n",
       "      <td>s1040</td>\n",
       "      <td>Movie</td>\n",
       "      <td>Marvel Studios' Avengers: Endgame</td>\n",
       "      <td>United States</td>\n",
       "      <td>2019</td>\n",
       "      <td>PG-13</td>\n",
       "      <td>183</td>\n",
       "      <td>Action-Adventure, Fantasy, Science Fiction</td>\n",
       "      <td>The epic finale to the Infinity Saga, this dra...</td>\n",
       "      <td>min</td>\n",
       "    </tr>\n",
       "  </tbody>\n",
       "</table>\n",
       "</div>"
      ],
      "text/plain": [
       "     show_id   type                              title        country  \\\n",
       "1039   s1040  Movie  Marvel Studios' Avengers: Endgame  United States   \n",
       "\n",
       "      release_year rating  duration  \\\n",
       "1039          2019  PG-13       183   \n",
       "\n",
       "                                       listed_in  \\\n",
       "1039  Action-Adventure, Fantasy, Science Fiction   \n",
       "\n",
       "                                            description  min  \n",
       "1039  The epic finale to the Infinity Saga, this dra...  min  "
      ]
     },
     "execution_count": 43,
     "metadata": {},
     "output_type": "execute_result"
    }
   ],
   "source": [
    "df_movie.sort_values(by='duration',ascending=False).head(1)"
   ]
  },
  {
   "cell_type": "markdown",
   "id": "8be1e03a",
   "metadata": {},
   "source": [
    "\"Marvel Studios' Avengers: Endgame\" this movie has 183 min time duration"
   ]
  },
  {
   "cell_type": "code",
   "execution_count": 44,
   "id": "9b67b317",
   "metadata": {},
   "outputs": [
    {
     "data": {
      "text/plain": [
       "71.9106463878327"
      ]
     },
     "execution_count": 44,
     "metadata": {},
     "output_type": "execute_result"
    }
   ],
   "source": [
    "df_movie['duration'].mean()"
   ]
  },
  {
   "cell_type": "markdown",
   "id": "ec60b871",
   "metadata": {},
   "source": [
    "Mean time duration is 72 min."
   ]
  },
  {
   "cell_type": "markdown",
   "id": "eb0ef117",
   "metadata": {},
   "source": [
    "# Which country has max no. of movies?"
   ]
  },
  {
   "cell_type": "code",
   "execution_count": 45,
   "id": "ddca297f",
   "metadata": {},
   "outputs": [
    {
     "data": {
      "text/plain": [
       "United States    883\n",
       "Name: country, dtype: int64"
      ]
     },
     "execution_count": 45,
     "metadata": {},
     "output_type": "execute_result"
    }
   ],
   "source": [
    "df_movie['country'].value_counts().head(1)"
   ]
  },
  {
   "cell_type": "markdown",
   "id": "fe8205c6",
   "metadata": {},
   "source": [
    "United States has max no. of movies"
   ]
  },
  {
   "cell_type": "markdown",
   "id": "6bea8e68",
   "metadata": {},
   "source": [
    "# Genre Analysis"
   ]
  },
  {
   "cell_type": "code",
   "execution_count": 46,
   "id": "7febc67a",
   "metadata": {},
   "outputs": [
    {
     "data": {
      "text/html": [
       "<div>\n",
       "<style scoped>\n",
       "    .dataframe tbody tr th:only-of-type {\n",
       "        vertical-align: middle;\n",
       "    }\n",
       "\n",
       "    .dataframe tbody tr th {\n",
       "        vertical-align: top;\n",
       "    }\n",
       "\n",
       "    .dataframe thead th {\n",
       "        text-align: right;\n",
       "    }\n",
       "</style>\n",
       "<table border=\"1\" class=\"dataframe\">\n",
       "  <thead>\n",
       "    <tr style=\"text-align: right;\">\n",
       "      <th></th>\n",
       "      <th>show_id</th>\n",
       "      <th>type</th>\n",
       "      <th>title</th>\n",
       "      <th>country</th>\n",
       "      <th>release_year</th>\n",
       "      <th>rating</th>\n",
       "      <th>duration</th>\n",
       "      <th>listed_in</th>\n",
       "      <th>description</th>\n",
       "    </tr>\n",
       "  </thead>\n",
       "  <tbody>\n",
       "    <tr>\n",
       "      <th>0</th>\n",
       "      <td>s1</td>\n",
       "      <td>Movie</td>\n",
       "      <td>Duck the Halls: A Mickey Mouse Christmas Special</td>\n",
       "      <td>United States</td>\n",
       "      <td>2016</td>\n",
       "      <td>TV-G</td>\n",
       "      <td>23 min</td>\n",
       "      <td>Animation, Family</td>\n",
       "      <td>Join Mickey and the gang as they duck the halls!</td>\n",
       "    </tr>\n",
       "    <tr>\n",
       "      <th>1</th>\n",
       "      <td>s2</td>\n",
       "      <td>Movie</td>\n",
       "      <td>Ernest Saves Christmas</td>\n",
       "      <td>United States</td>\n",
       "      <td>1988</td>\n",
       "      <td>PG</td>\n",
       "      <td>91 min</td>\n",
       "      <td>Comedy</td>\n",
       "      <td>Santa Claus passes his magic bag to a new St. ...</td>\n",
       "    </tr>\n",
       "    <tr>\n",
       "      <th>2</th>\n",
       "      <td>s3</td>\n",
       "      <td>Movie</td>\n",
       "      <td>Ice Age: A Mammoth Christmas</td>\n",
       "      <td>United States</td>\n",
       "      <td>2011</td>\n",
       "      <td>TV-G</td>\n",
       "      <td>23 min</td>\n",
       "      <td>Animation, Comedy, Family</td>\n",
       "      <td>Sid the Sloth is on Santa's naughty list.</td>\n",
       "    </tr>\n",
       "    <tr>\n",
       "      <th>3</th>\n",
       "      <td>s4</td>\n",
       "      <td>Movie</td>\n",
       "      <td>The Queen Family Singalong</td>\n",
       "      <td>United States</td>\n",
       "      <td>2021</td>\n",
       "      <td>TV-PG</td>\n",
       "      <td>41 min</td>\n",
       "      <td>Musical</td>\n",
       "      <td>This is real life, not just fantasy!</td>\n",
       "    </tr>\n",
       "    <tr>\n",
       "      <th>4</th>\n",
       "      <td>s5</td>\n",
       "      <td>TV Show</td>\n",
       "      <td>The Beatles: Get Back</td>\n",
       "      <td>United States</td>\n",
       "      <td>2021</td>\n",
       "      <td>NaN</td>\n",
       "      <td>1 Season</td>\n",
       "      <td>Docuseries, Historical, Music</td>\n",
       "      <td>A three-part documentary from Peter Jackson ca...</td>\n",
       "    </tr>\n",
       "  </tbody>\n",
       "</table>\n",
       "</div>"
      ],
      "text/plain": [
       "  show_id     type                                             title  \\\n",
       "0      s1    Movie  Duck the Halls: A Mickey Mouse Christmas Special   \n",
       "1      s2    Movie                            Ernest Saves Christmas   \n",
       "2      s3    Movie                      Ice Age: A Mammoth Christmas   \n",
       "3      s4    Movie                        The Queen Family Singalong   \n",
       "4      s5  TV Show                             The Beatles: Get Back   \n",
       "\n",
       "         country  release_year rating  duration  \\\n",
       "0  United States          2016   TV-G    23 min   \n",
       "1  United States          1988     PG    91 min   \n",
       "2  United States          2011   TV-G    23 min   \n",
       "3  United States          2021  TV-PG    41 min   \n",
       "4  United States          2021    NaN  1 Season   \n",
       "\n",
       "                       listed_in  \\\n",
       "0              Animation, Family   \n",
       "1                         Comedy   \n",
       "2      Animation, Comedy, Family   \n",
       "3                        Musical   \n",
       "4  Docuseries, Historical, Music   \n",
       "\n",
       "                                         description  \n",
       "0   Join Mickey and the gang as they duck the halls!  \n",
       "1  Santa Claus passes his magic bag to a new St. ...  \n",
       "2          Sid the Sloth is on Santa's naughty list.  \n",
       "3               This is real life, not just fantasy!  \n",
       "4  A three-part documentary from Peter Jackson ca...  "
      ]
     },
     "execution_count": 46,
     "metadata": {},
     "output_type": "execute_result"
    }
   ],
   "source": [
    "df.head()"
   ]
  },
  {
   "cell_type": "code",
   "execution_count": 47,
   "id": "d7b6a52c",
   "metadata": {},
   "outputs": [
    {
     "data": {
      "text/plain": [
       "Animation, Comedy, Family                        124\n",
       "Action-Adventure, Animation, Comedy               77\n",
       "Action-Adventure, Animation, Kids                 45\n",
       "Action-Adventure, Animation, Family               40\n",
       "Animals & Nature, Documentary, Family             40\n",
       "                                                ... \n",
       "Animals & Nature, Family, Reality                  1\n",
       "Dance, Music, Musical                              1\n",
       "Comedy, Family, Lifestyle                          1\n",
       "Buddy, Docuseries                                  1\n",
       "Action-Adventure, Animals & Nature, Animation      1\n",
       "Name: listed_in, Length: 329, dtype: int64"
      ]
     },
     "execution_count": 47,
     "metadata": {},
     "output_type": "execute_result"
    }
   ],
   "source": [
    "df['listed_in'].value_counts()"
   ]
  },
  {
   "cell_type": "markdown",
   "id": "65d3ac50",
   "metadata": {},
   "source": [
    "# How many animation movies are listed in on Disney+  ?"
   ]
  },
  {
   "cell_type": "code",
   "execution_count": 48,
   "id": "c819bd28",
   "metadata": {},
   "outputs": [
    {
     "data": {
      "text/plain": [
       "542"
      ]
     },
     "execution_count": 48,
     "metadata": {},
     "output_type": "execute_result"
    }
   ],
   "source": [
    "df[df['listed_in'].str.contains('Animation')]['listed_in'].count()"
   ]
  },
  {
   "cell_type": "markdown",
   "id": "134af061",
   "metadata": {},
   "source": [
    "542 animation movies are there listed in."
   ]
  },
  {
   "cell_type": "code",
   "execution_count": 49,
   "id": "38985efe",
   "metadata": {},
   "outputs": [
    {
     "data": {
      "text/plain": [
       "0                                   Animation, Family\n",
       "2                           Animation, Comedy, Family\n",
       "15                                          Animation\n",
       "16                          Animation, Comedy, Family\n",
       "17                                    Animation, Kids\n",
       "                            ...                      \n",
       "1433       Action-Adventure, Animation, Coming of Age\n",
       "1436                       Animation, Family, Mystery\n",
       "1437              Action-Adventure, Animation, Comedy\n",
       "1444                        Animation, Comedy, Family\n",
       "1449    Action-Adventure, Animals & Nature, Animation\n",
       "Name: listed_in, Length: 542, dtype: object"
      ]
     },
     "execution_count": 49,
     "metadata": {},
     "output_type": "execute_result"
    }
   ],
   "source": [
    " df[df['listed_in'].str.contains('Animation')]['listed_in']"
   ]
  },
  {
   "cell_type": "code",
   "execution_count": null,
   "id": "66cb92d0",
   "metadata": {},
   "outputs": [],
   "source": []
  },
  {
   "cell_type": "code",
   "execution_count": 50,
   "id": "7a904312",
   "metadata": {},
   "outputs": [
    {
     "data": {
      "text/html": [
       "<div>\n",
       "<style scoped>\n",
       "    .dataframe tbody tr th:only-of-type {\n",
       "        vertical-align: middle;\n",
       "    }\n",
       "\n",
       "    .dataframe tbody tr th {\n",
       "        vertical-align: top;\n",
       "    }\n",
       "\n",
       "    .dataframe thead th {\n",
       "        text-align: right;\n",
       "    }\n",
       "</style>\n",
       "<table border=\"1\" class=\"dataframe\">\n",
       "  <thead>\n",
       "    <tr style=\"text-align: right;\">\n",
       "      <th></th>\n",
       "      <th>show_id</th>\n",
       "      <th>type</th>\n",
       "      <th>title</th>\n",
       "      <th>country</th>\n",
       "      <th>release_year</th>\n",
       "      <th>rating</th>\n",
       "      <th>duration</th>\n",
       "      <th>listed_in</th>\n",
       "      <th>description</th>\n",
       "    </tr>\n",
       "  </thead>\n",
       "  <tbody>\n",
       "    <tr>\n",
       "      <th>15</th>\n",
       "      <td>s16</td>\n",
       "      <td>Movie</td>\n",
       "      <td>Baymax!</td>\n",
       "      <td>United States</td>\n",
       "      <td>2021</td>\n",
       "      <td>TV-G</td>\n",
       "      <td>1 min</td>\n",
       "      <td>Animation</td>\n",
       "      <td>“Baymax!” premieres on Disney+ summer 2022.</td>\n",
       "    </tr>\n",
       "    <tr>\n",
       "      <th>266</th>\n",
       "      <td>s267</td>\n",
       "      <td>Movie</td>\n",
       "      <td>Star Wars Vintage: Story of the Faithful Wookiee</td>\n",
       "      <td>United States</td>\n",
       "      <td>2021</td>\n",
       "      <td>TV-Y7-FV</td>\n",
       "      <td>9 min</td>\n",
       "      <td>Animation</td>\n",
       "      <td>With his friends ailing from a sleeping virus,...</td>\n",
       "    </tr>\n",
       "  </tbody>\n",
       "</table>\n",
       "</div>"
      ],
      "text/plain": [
       "    show_id   type                                             title  \\\n",
       "15      s16  Movie                                           Baymax!   \n",
       "266    s267  Movie  Star Wars Vintage: Story of the Faithful Wookiee   \n",
       "\n",
       "           country  release_year    rating duration  listed_in  \\\n",
       "15   United States          2021      TV-G    1 min  Animation   \n",
       "266  United States          2021  TV-Y7-FV    9 min  Animation   \n",
       "\n",
       "                                           description  \n",
       "15         “Baymax!” premieres on Disney+ summer 2022.  \n",
       "266  With his friends ailing from a sleeping virus,...  "
      ]
     },
     "execution_count": 50,
     "metadata": {},
     "output_type": "execute_result"
    }
   ],
   "source": [
    "df[df['listed_in']=='Animation']"
   ]
  },
  {
   "cell_type": "markdown",
   "id": "cce734a7",
   "metadata": {},
   "source": [
    "# Summary:"
   ]
  },
  {
   "cell_type": "markdown",
   "id": "170d0ff6",
   "metadata": {},
   "source": [
    "\n",
    "    \n",
    "1. 72.63 %= 1052 movies and 27.37%= 398 TV shows are available on Disney+.\n",
    "\n",
    "2. In year 2020 maximum no. of movies and Tv shows were released. Around 400 movies and 250 Tv shows were released\n",
    "\n",
    "3. in United States= 1403 , United Kingdom = 101 and Germany= 9 movies and Tvshows are released.\n",
    "\n",
    "4. Most of the content on Disney+ platform is safe to watch for all ages.\n",
    "   It is categorised to G for General audiance and TV-G for general Audiance rating by TV .\n",
    "\n",
    "5. The TV show \"America's Funniest Home Videos\" has max no. of seasons, that is 9.\n",
    "   \"Marvel Studios' Avengers: Endgame\" this movie has 183 min time duration.\n",
    "    Mean time duration for movies is 72 min.\n",
    "\n",
    "6. United States has max no. of movies. 883 movies\n",
    "\n",
    "7. 542 animation movies are there listed in.\n",
    "\n"
   ]
  },
  {
   "cell_type": "markdown",
   "id": "25efe80a",
   "metadata": {},
   "source": [
    "# Future Scope of the Analysis:"
   ]
  },
  {
   "cell_type": "markdown",
   "id": "4cd88867",
   "metadata": {},
   "source": [
    "\n",
    "1. We can split the countries into  different columns,thereby separate out the all counties and do more specific analysis regarding country.\n",
    "  like Which is country where highest no. of movies and TV shows are released.\n",
    "\n",
    "2. Same case for listed_in column that is Genre of movie and cast of the movies and Tvshows.\n",
    "  We can have detailed analysis on those columns.\n"
   ]
  },
  {
   "cell_type": "code",
   "execution_count": null,
   "id": "65ff809f",
   "metadata": {},
   "outputs": [],
   "source": []
  }
 ],
 "metadata": {
  "kernelspec": {
   "display_name": "Python 3 (ipykernel)",
   "language": "python",
   "name": "python3"
  },
  "language_info": {
   "codemirror_mode": {
    "name": "ipython",
    "version": 3
   },
   "file_extension": ".py",
   "mimetype": "text/x-python",
   "name": "python",
   "nbconvert_exporter": "python",
   "pygments_lexer": "ipython3",
   "version": "3.8.12"
  }
 },
 "nbformat": 4,
 "nbformat_minor": 5
}
